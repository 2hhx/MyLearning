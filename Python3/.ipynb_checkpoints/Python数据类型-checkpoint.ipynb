{
 "cells": [
  {
   "cell_type": "markdown",
   "metadata": {},
   "source": [
    "### 字符串的切片操作：左闭右开 字符串前面为空代表从头开始，后面为空代表到末尾"
   ]
  },
  {
   "cell_type": "code",
   "execution_count": 1,
   "metadata": {},
   "outputs": [
    {
     "name": "stdout",
     "output_type": "stream",
     "text": [
      "Hello World!\n",
      "H\n",
      "llo\n",
      "Hello\n",
      "llo World!\n",
      "Hello World!Hello World!\n",
      "Hello World!TEST\n"
     ]
    }
   ],
   "source": [
    "s = 'Hello World!'\n",
    "print(s)#输出完整字符串\n",
    "print(s[0])#输出字符串中的第一个字符\n",
    "print(s[2:5])#输出字符串中的第三个到第五个之间的字符串\n",
    "print(s[:5])#输出字符串中从0开始到第五个之间的字符串\n",
    "print(s[2:])#输出从第三个字符开始的字符串\n",
    "print(s * 2)#输出字符串两次\n",
    "print(s+'TEST')#输出链接的字符串"
   ]
  },
  {
   "cell_type": "markdown",
   "metadata": {},
   "source": [
    "### 列表 两个列表、元组是可以加起来变成一个列表的"
   ]
  },
  {
   "cell_type": "code",
   "execution_count": 4,
   "metadata": {},
   "outputs": [
    {
     "name": "stdout",
     "output_type": "stream",
     "text": [
      "str\n",
      "[1, ['a', 'b', 'c']]\n",
      "[1, ['a', 'b', 'c'], 4]\n",
      "['hello', 'hello']\n",
      "['str', 1, ['a', 'b', 'c'], 4, 'hello']\n"
     ]
    }
   ],
   "source": [
    "list_a = ['str',1,['a','b','c'],4]\n",
    "list_b = ['hello']\n",
    "print(list_a[0])\n",
    "print(list_a[1:3])\n",
    "print(list_a[1:])\n",
    "print(list_b * 2)\n",
    "print(list_a+list_b)"
   ]
  },
  {
   "cell_type": "markdown",
   "metadata": {},
   "source": [
    "### 字典"
   ]
  },
  {
   "cell_type": "code",
   "execution_count": 5,
   "metadata": {},
   "outputs": [
    {
     "name": "stdout",
     "output_type": "stream",
     "text": [
      "True\n",
      "False\n",
      "dict_keys(['name', 'age', 1])\n",
      "dict_values(['Alan', 24, 'level_1'])\n",
      "dict_items([('name', 'Alan'), ('age', 24), (1, 'level_1')])\n"
     ]
    }
   ],
   "source": [
    "dict_a = {\n",
    "    'name':'Alan',\n",
    "    'age':24,\n",
    "    1:'level_1'\n",
    "}\n",
    "#打印‘name’这个key是否在字典中，返回True or False\n",
    "print('name' in dict_a)\n",
    "#打印‘xxx’这个key是否在字典中\n",
    "print('xxx' in dict_a)\n",
    "print(dict_a.keys())\n",
    "print(dict_a.values())\n",
    "#item就是字典的键值对打印出来，每个键值对是一对元组\n",
    "print(dict_a.items())"
   ]
  },
  {
   "cell_type": "code",
   "execution_count": null,
   "metadata": {},
   "outputs": [],
   "source": []
  }
 ],
 "metadata": {
  "kernelspec": {
   "display_name": "Python 3",
   "language": "python 3.5",
   "name": "python3"
  },
  "language_info": {
   "codemirror_mode": {
    "name": "ipython",
    "version": 3
   },
   "file_extension": ".py",
   "mimetype": "text/x-python",
   "name": "python",
   "nbconvert_exporter": "python",
   "pygments_lexer": "ipython3",
   "version": "3.6.8"
  },
  "toc": {
   "base_numbering": 1,
   "nav_menu": {},
   "number_sections": true,
   "sideBar": true,
   "skip_h1_title": false,
   "title_cell": "Table of Contents",
   "title_sidebar": "Contents",
   "toc_cell": false,
   "toc_position": {},
   "toc_section_display": true,
   "toc_window_display": false
  }
 },
 "nbformat": 4,
 "nbformat_minor": 2
}
