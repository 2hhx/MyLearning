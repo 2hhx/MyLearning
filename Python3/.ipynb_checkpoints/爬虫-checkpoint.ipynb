{
 "cells": [
  {
   "cell_type": "markdown",
   "metadata": {},
   "source": [
    "## 第一个爬虫"
   ]
  },
  {
   "cell_type": "code",
   "execution_count": 5,
   "metadata": {
    "collapsed": true
   },
   "outputs": [
    {
     "data": {
      "text/plain": [
       "b'<!DOCTYPE html>\\n<html lang=\"zh-CN\">\\n<head>\\n  <meta charset=\"utf-8\">\\n  <meta name=\"viewport\" content=\"width=device-width,initial-scale=1,minimum-scale=1,maximum-scale=1,user-scalable=no\">\\n  <title>Python\\xe6\\x95\\x99\\xe7\\xa8\\x8b - \\xe9\\x9b\\xa8\\xe6\\x95\\xb2\\xe7\\xaa\\x97\\xe4\\xb8\\xaa\\xe4\\xba\\xba\\xe5\\x8d\\x9a\\xe5\\xae\\xa2</title>\\n  <link rel=\"icon\" href=\"\">\\n  \\n  <link rel=\"alternate\" type=\"application/rss+xml\" title=\"RSS 2.0\" href=\"/rss.html\">\\n  <link rel=search type=\"application/opensearchdescription+xml\" href=\"/opensearch.xml\" title=\"\\xe9\\x9b\\xa8\\xe6\\x95\\xb2\\xe7\\xaa\\x97\\xe4\\xb8\\xaa\\xe4\\xba\\xba\\xe5\\x8d\\x9a\\xe5\\xae\\xa2\">\\n  \\n  <meta name=\"description\" content=\"\\xe9\\x9b\\xa8\\xe6\\x95\\xb2\\xe7\\xaa\\x97\\xe4\\xb8\\xaa\\xe4\\xba\\xba\\xe5\\x8d\\x9a\\xe5\\xae\\xa2\"><link rel=\"canonical\" href=\"http://www.yuqiaochuang.com/page/python.html\" />\\n  <link rel=\"stylesheet\" href=\"/theme/firekylin/res/css/all.css\" type=\"text/css\" data-ls=\"css_firekylin\">\\n  \\n  <style>\\n    \\n      #sidebar {\\n        \\n        \\n        background-color: #000000;\\n        \\n      }\\n    \\n\\n    \\n    #sidebar .profile span, #sidebar .buttons li a, #sidebar .buttons li a:hover{\\n      color: #ffffff;\\n    }\\n    \\n    \\n  </style>\\n  \\n</head>\\n<body>\\n<nav id=\"sidebar\" class=\"behavior_1\">\\n  <div class=\"wrap\">\\n      <div class=\"profile\">\\n          <a href=\"/\">\\n              <img src=\"/static/upload/20190321/upload_9e641982c43a3b8d81c5160920734b68.png\" alt=\"\\xe9\\x9b\\xa8\\xe6\\x95\\xb2\\xe7\\xaa\\x97\\xe4\\xb8\\xaa\\xe4\\xba\\xba\\xe5\\x8d\\x9a\\xe5\\xae\\xa2\">\\n          </a>\\n          <span>\\xe9\\x9b\\xa8\\xe6\\x95\\xb2\\xe7\\xaa\\x97\\xe4\\xb8\\xaa\\xe4\\xba\\xba\\xe5\\x8d\\x9a\\xe5\\xae\\xa2</span>\\n      </div>\\n      <ul class=\"buttons\">\\n          \\n          <li>\\n              <a class=\"\" href=\"/\" title=\"\\xe9\\xa6\\x96\\xe9\\xa1\\xb5\">\\n                  <i class=\"iconfont icon-home\"></i>\\n                  <span>\\xe9\\xa6\\x96\\xe9\\xa1\\xb5</span>\\n              </a>\\n          </li>\\n          \\n          <li>\\n              <a class=\"\" href=\"/page/python.html\" title=\"Python\\xe6\\x95\\x99\\xe7\\xa8\\x8b\">\\n                  <i class=\"iconfont icon-Python\\xe6\\x95\\x99\\xe7\\xa8\\x8b\"></i>\\n                  <span>Python\\xe6\\x95\\x99\\xe7\\xa8\\x8b</span>\\n              </a>\\n          </li>\\n          \\n          <li>\\n              <a class=\"\" href=\"/archives/\" title=\"\\xe5\\xbd\\x92\\xe6\\xa1\\xa3\">\\n                  <i class=\"iconfont icon-archive\"></i>\\n                  <span>\\xe5\\xbd\\x92\\xe6\\xa1\\xa3</span>\\n              </a>\\n          </li>\\n          \\n          <li>\\n              <a class=\"\" href=\"/tags\" title=\"\\xe6\\xa0\\x87\\xe7\\xad\\xbe\">\\n                  <i class=\"iconfont icon-tags\"></i>\\n                  <span>\\xe6\\xa0\\x87\\xe7\\xad\\xbe</span>\\n              </a>\\n          </li>\\n          \\n          <li>\\n              <a class=\"\" href=\"/about\" title=\"\\xe5\\x85\\xb3\\xe4\\xba\\x8e\">\\n                  <i class=\"iconfont icon-user\"></i>\\n                  <span>\\xe5\\x85\\xb3\\xe4\\xba\\x8e</span>\\n              </a>\\n          </li>\\n          \\n          <li>\\n              <a class=\"\" href=\"/links\" title=\"\\xe5\\x8f\\x8b\\xe9\\x93\\xbe\">\\n                  <i class=\"iconfont icon-link\"></i>\\n                  <span>\\xe5\\x8f\\x8b\\xe9\\x93\\xbe</span>\\n              </a>\\n          </li>\\n          \\n      </ul>\\n      <ul class=\"buttons\">\\n        <li>\\n          \\n          \\n          <a class=\"inline\" href=\"/rss.html\">\\n            <i class=\"iconfont icon-rss-v\" title=\"RSS\"></i>\\n          </a>\\n          <a class=\"inline\" href=\"/search.html\">\\n            <i class=\"iconfont icon-search\" title=\"Search\"></i>\\n          </a>\\n        </li>\\n      </ul>\\n  </div>\\n</nav>\\n<div id=\"header\">\\n  <div class=\"btn-bar\"><i></i></div>\\n  <h1><a href=\"/\">\\xe9\\x9b\\xa8\\xe6\\x95\\xb2\\xe7\\xaa\\x97\\xe4\\xb8\\xaa\\xe4\\xba\\xba\\xe5\\x8d\\x9a\\xe5\\xae\\xa2</a></h1>\\n  <a class=\"me\" href=\"/about/\"><img src=\"/static/upload/20190321/upload_9e641982c43a3b8d81c5160920734b68.png\" alt=\"\\xe9\\x9b\\xa8\\xe6\\x95\\xb2\\xe7\\xaa\\x97\\xe4\\xb8\\xaa\\xe4\\xba\\xba\\xe5\\x8d\\x9a\\xe5\\xae\\xa2\"></a>\\n</div>\\n<div id=\"sidebar-mask\"></div>\\n<div id=\"main\">\\n\\n<article class=\"post page\">\\n  \\n  <h1 class=\"title\">Python\\xe6\\x95\\x99\\xe7\\xa8\\x8b</h1>\\n  <div class=\"entry-content\">\\n      <p><a href=\"http://www.yuqiaochuang.com/post/\\xe5\\xad\\xa6\\xe5\\x89\\x8d\\xe5\\xbf\\x85\\xe8\\xaf\\xbb.html\">\\xe5\\xad\\xa6\\xe5\\x89\\x8d\\xe5\\xbf\\x85\\xe8\\xaf\\xbb</a></p>\\n<p><a href=\"http://www.yuqiaochuang.com/post/\\xe5\\x8f\\x98\\xe9\\x87\\x8f.html\">\\xe5\\x8f\\x98\\xe9\\x87\\x8f</a></p>\\n<p><a href=\"http://www.yuqiaochuang.com/post/\\xe8\\xbf\\x90\\xe7\\xae\\x97\\xe7\\xac\\xa6.html\">\\xe8\\xbf\\x90\\xe7\\xae\\x97\\xe7\\xac\\xa6</a></p>\\n<p><a href=\"http://www.yuqiaochuang.com/post/\\xe8\\xaf\\xad\\xe5\\x8f\\xa5.html\">\\xe8\\xaf\\xad\\xe5\\x8f\\xa5</a></p>\\n<p><a href=\"http://www.yuqiaochuang.com/post/list\\xe3\\x80\\x81tuple\\xe3\\x80\\x81dict\\xe3\\x80\\x81set.html\">list\\xe3\\x80\\x81tuple\\xe3\\x80\\x81dict\\xe3\\x80\\x81set</a></p>\\n<p><a href=\"http://www.yuqiaochuang.com/post/\\xe5\\x87\\xbd\\xe6\\x95\\xb0.html\">\\xe5\\x87\\xbd\\xe6\\x95\\xb0</a></p>\\n<p><a href=\"http://www.yuqiaochuang.com/post/\\xe7\\xb1\\xbb.html\">\\xe7\\xb1\\xbb</a></p>\\n<p><a href=\"http://www.yuqiaochuang.com/post/\\xe6\\xa8\\xa1\\xe5\\x9d\\x97.html\">\\xe6\\xa8\\xa1\\xe5\\x9d\\x97</a></p>\\n<p><a href=\"http://www.yuqiaochuang.com/post/\\xe5\\xad\\x97\\xe7\\xac\\xa6\\xe4\\xb8\\xb2\\xe5\\xa4\\x84\\xe7\\x90\\x86.html\">\\xe5\\xad\\x97\\xe7\\xac\\xa6\\xe4\\xb8\\xb2\\xe5\\xa4\\x84\\xe7\\x90\\x86</a></p>\\n<p><a href=\"http://www.yuqiaochuang.com/post/\\xe6\\x96\\x87\\xe4\\xbb\\xb6\\xe8\\xaf\\xbb\\xe5\\x86\\x99.html\">\\xe6\\x96\\x87\\xe4\\xbb\\xb6\\xe8\\xaf\\xbb\\xe5\\x86\\x99</a></p>\\n<p><a href=\"http://www.yuqiaochuang.com/post/\\xe3\\x80\\x90\\xe6\\x95\\xb0\\xe6\\x8d\\xae\\xe7\\xbb\\x93\\xe6\\x9e\\x84\\xe3\\x80\\x91\\xe6\\x95\\xb0\\xe7\\xbb\\x84\\xe5\\x92\\x8c\\xe9\\x93\\xbe\\xe8\\xa1\\xa8.html\">\\xe3\\x80\\x90\\xe6\\x95\\xb0\\xe6\\x8d\\xae\\xe7\\xbb\\x93\\xe6\\x9e\\x84\\xe3\\x80\\x91\\xe6\\x95\\xb0\\xe7\\xbb\\x84\\xe5\\x92\\x8c\\xe9\\x93\\xbe\\xe8\\xa1\\xa8</a></p>\\n<p><a href=\"http://www.yuqiaochuang.com/post/\\xe3\\x80\\x90\\xe6\\x95\\xb0\\xe6\\x8d\\xae\\xe7\\xbb\\x93\\xe6\\x9e\\x84\\xe3\\x80\\x91\\xe9\\x98\\x9f\\xe5\\x88\\x97\\xe5\\x92\\x8c\\xe6\\xa0\\x88.html\">\\xe3\\x80\\x90\\xe6\\x95\\xb0\\xe6\\x8d\\xae\\xe7\\xbb\\x93\\xe6\\x9e\\x84\\xe3\\x80\\x91\\xe9\\x98\\x9f\\xe5\\x88\\x97\\xe5\\x92\\x8c\\xe6\\xa0\\x88</a></p>\\n<p><a href=\"http://www.yuqiaochuang.com/post/\\xe3\\x80\\x90\\xe6\\x95\\xb0\\xe6\\x8d\\xae\\xe7\\xbb\\x93\\xe6\\x9e\\x84\\xe3\\x80\\x91\\xe6\\xa0\\x91.html\">\\xe3\\x80\\x90\\xe6\\x95\\xb0\\xe6\\x8d\\xae\\xe7\\xbb\\x93\\xe6\\x9e\\x84\\xe3\\x80\\x91\\xe6\\xa0\\x91</a></p>\\n<p><a href=\"http://www.yuqiaochuang.com/post/\\xe3\\x80\\x90\\xe6\\x95\\xb0\\xe6\\x8d\\xae\\xe7\\xbb\\x93\\xe6\\x9e\\x84\\xe3\\x80\\x91\\xe6\\x8e\\x92\\xe5\\xba\\x8f.html\">\\xe3\\x80\\x90\\xe6\\x95\\xb0\\xe6\\x8d\\xae\\xe7\\xbb\\x93\\xe6\\x9e\\x84\\xe3\\x80\\x91\\xe6\\x8e\\x92\\xe5\\xba\\x8f</a></p>\\n<p><a href=\"http://www.yuqiaochuang.com/post/\\xe3\\x80\\x90\\xe6\\x95\\xb0\\xe6\\x8d\\xae\\xe7\\xbb\\x93\\xe6\\x9e\\x84\\xe3\\x80\\x91\\xe6\\x8e\\x92\\xe5\\xba\\x8f\\xe4\\xbb\\xa3\\xe7\\xa0\\x81.html\">\\xe3\\x80\\x90\\xe6\\x95\\xb0\\xe6\\x8d\\xae\\xe7\\xbb\\x93\\xe6\\x9e\\x84\\xe3\\x80\\x91\\xe6\\x8e\\x92\\xe5\\xba\\x8f\\xe4\\xbb\\xa3\\xe7\\xa0\\x81</a></p>\\n<p><a href=\"http://www.yuqiaochuang.com/post/\\xe4\\xba\\x8c\\xe5\\x88\\x86\\xe6\\x9f\\xa5\\xe6\\x89\\xbe.html\">\\xe4\\xba\\x8c\\xe5\\x88\\x86\\xe6\\x9f\\xa5\\xe6\\x89\\xbe</a></p>\\n<p><a href=\"http://www.yuqiaochuang.com/post/\\xe3\\x80\\x90\\xe6\\x95\\xb0\\xe6\\x8d\\xae\\xe7\\xbb\\x93\\xe6\\x9e\\x84\\xe3\\x80\\x91\\xe5\\xa0\\x86.html\">\\xe3\\x80\\x90\\xe6\\x95\\xb0\\xe6\\x8d\\xae\\xe7\\xbb\\x93\\xe6\\x9e\\x84\\xe3\\x80\\x91\\xe5\\xa0\\x86</a></p>\\n<p><a href=\"http://www.yuqiaochuang.com/post/\\xe3\\x80\\x90\\xe6\\x95\\xb0\\xe6\\x8d\\xae\\xe7\\xbb\\x93\\xe6\\x9e\\x84\\xe3\\x80\\x91\\xe5\\xa0\\x86 python\\xe5\\xae\\x9e\\xe7\\x8e\\xb0.html\">\\xe3\\x80\\x90\\xe6\\x95\\xb0\\xe6\\x8d\\xae\\xe7\\xbb\\x93\\xe6\\x9e\\x84\\xe3\\x80\\x91\\xe5\\xa0\\x86 python\\xe5\\xae\\x9e\\xe7\\x8e\\xb0</a></p>\\n<p><a href=\"http://www.yuqiaochuang.com/post/\\xe3\\x80\\x90\\xe7\\x88\\xac\\xe8\\x99\\xab\\xe3\\x80\\x91\\xe5\\x88\\x9d\\xe8\\xaf\\x86http.html\">\\xe3\\x80\\x90\\xe7\\x88\\xac\\xe8\\x99\\xab\\xe3\\x80\\x91\\xe5\\x88\\x9d\\xe8\\xaf\\x86http</a></p>\\n<p><a href=\"http://www.yuqiaochuang.com/post/\\xe3\\x80\\x90\\xe7\\x88\\xac\\xe8\\x99\\xab\\xe3\\x80\\x91\\xe6\\xad\\xa3\\xe5\\x88\\x99\\xe8\\xa1\\xa8\\xe8\\xbe\\xbe\\xe5\\xbc\\x8f.html\">\\xe3\\x80\\x90\\xe7\\x88\\xac\\xe8\\x99\\xab\\xe3\\x80\\x91\\xe6\\xad\\xa3\\xe5\\x88\\x99\\xe8\\xa1\\xa8\\xe8\\xbe\\xbe\\xe5\\xbc\\x8f</a></p>\\n<p><a href=\"http://www.yuqiaochuang.com/post/\\xe3\\x80\\x90\\xe7\\x88\\xac\\xe8\\x99\\xab\\xe3\\x80\\x91\\xe6\\xad\\xa3\\xe5\\x88\\x99\\xe8\\xa1\\xa8\\xe8\\xbe\\xbe\\xe5\\xbc\\x8f\\xe8\\xaf\\xad\\xe6\\xb3\\x95.html\">\\xe3\\x80\\x90\\xe7\\x88\\xac\\xe8\\x99\\xab\\xe3\\x80\\x91\\xe6\\xad\\xa3\\xe5\\x88\\x99\\xe8\\xa1\\xa8\\xe8\\xbe\\xbe\\xe5\\xbc\\x8f\\xe8\\xaf\\xad\\xe6\\xb3\\x95</a></p>\\n<p><a href=\"http://www.yuqiaochuang.com/post/\\xe3\\x80\\x90\\xe7\\x88\\xac\\xe8\\x99\\xab\\xe3\\x80\\x91\\xe5\\xae\\x9e\\xe6\\x88\\x98\\xe2\\x80\\x94\\xe2\\x80\\x94\\xe7\\xb3\\x97\\xe4\\xba\\x8b\\xe7\\x99\\xbe\\xe7\\xa7\\x91\\xe6\\xae\\xb5\\xe5\\xad\\x90.html\">\\xe3\\x80\\x90\\xe7\\x88\\xac\\xe8\\x99\\xab\\xe3\\x80\\x91\\xe5\\xae\\x9e\\xe6\\x88\\x98\\xe2\\x80\\x94\\xe2\\x80\\x94\\xe7\\xb3\\x97\\xe4\\xba\\x8b\\xe7\\x99\\xbe\\xe7\\xa7\\x91\\xe6\\xae\\xb5\\xe5\\xad\\x90</a></p>\\n<p><a href=\"http://www.yuqiaochuang.com/post/\\xe3\\x80\\x90\\xe7\\x88\\xac\\xe8\\x99\\xab\\xe3\\x80\\x91\\xe5\\xae\\x9e\\xe6\\x88\\x98\\xe2\\x80\\x94\\xe2\\x80\\x94\\xe7\\xb3\\x97\\xe4\\xba\\x8b\\xe7\\x99\\xbe\\xe7\\xa7\\x91\\xe5\\x9b\\xbe\\xe7\\x89\\x87.html\">\\xe3\\x80\\x90\\xe7\\x88\\xac\\xe8\\x99\\xab\\xe3\\x80\\x91\\xe5\\xae\\x9e\\xe6\\x88\\x98\\xe2\\x80\\x94\\xe2\\x80\\x94\\xe7\\xb3\\x97\\xe4\\xba\\x8b\\xe7\\x99\\xbe\\xe7\\xa7\\x91\\xe5\\x9b\\xbe\\xe7\\x89\\x87</a></p>\\n<p><a href=\"http://www.yuqiaochuang.com/post/\\xe3\\x80\\x90\\xe7\\x88\\xac\\xe8\\x99\\xab\\xe3\\x80\\x91\\xe5\\x86\\x8d\\xe8\\xa7\\x81\\xe6\\xad\\xa3\\xe5\\x88\\x99\\xef\\xbc\\x8c\\xe4\\xbd\\xa0\\xe5\\xa5\\xbdbeautifulsoup.html\">\\xe3\\x80\\x90\\xe7\\x88\\xac\\xe8\\x99\\xab\\xe3\\x80\\x91\\xe5\\x86\\x8d\\xe8\\xa7\\x81\\xe6\\xad\\xa3\\xe5\\x88\\x99\\xef\\xbc\\x8c\\xe4\\xbd\\xa0\\xe5\\xa5\\xbdbeautifulsoup</a></p>\\n<p><a href=\"http://www.yuqiaochuang.com/post/\\xe3\\x80\\x90\\xe7\\x88\\xac\\xe8\\x99\\xab\\xe3\\x80\\x91chrome\\xe6\\x8a\\x93\\xe5\\x8c\\x85\\xe2\\x80\\x94\\xe2\\x80\\x94\\xe6\\x8a\\x93\\xe5\\x8f\\x96\\xe5\\x8a\\xa8\\xe6\\x80\\x81\\xe7\\xbd\\x91\\xe7\\xab\\x99.html\">\\xe3\\x80\\x90\\xe7\\x88\\xac\\xe8\\x99\\xab\\xe3\\x80\\x91chrome\\xe6\\x8a\\x93\\xe5\\x8c\\x85\\xe2\\x80\\x94\\xe2\\x80\\x94\\xe6\\x8a\\x93\\xe5\\x8f\\x96\\xe5\\x8a\\xa8\\xe6\\x80\\x81\\xe7\\xbd\\x91\\xe7\\xab\\x99</a></p>\\n<p><a href=\"http://www.yuqiaochuang.com/post/\\xe3\\x80\\x90\\xe7\\x88\\xac\\xe8\\x99\\xab\\xe3\\x80\\x91\\xe5\\xa4\\xa7\\xe6\\x9d\\x80\\xe5\\x99\\xa8\\xe2\\x80\\x94\\xe2\\x80\\x94phantomJS+selenium.html\">\\xe3\\x80\\x90\\xe7\\x88\\xac\\xe8\\x99\\xab\\xe3\\x80\\x91\\xe5\\xa4\\xa7\\xe6\\x9d\\x80\\xe5\\x99\\xa8\\xe2\\x80\\x94\\xe2\\x80\\x94phantomJS+selenium</a></p>\\n<p><a href=\"http://www.yuqiaochuang.com/post/\\xe3\\x80\\x90\\xe7\\x88\\xac\\xe8\\x99\\xab\\xe3\\x80\\x91\\xe6\\x8a\\x8a\\xe6\\x8a\\x93\\xe5\\x88\\xb0\\xe6\\x95\\xb0\\xe6\\x8d\\xae\\xe5\\xad\\x98\\xe8\\xb5\\xb7\\xe6\\x9d\\xa5\\xe2\\x80\\x94\\xe2\\x80\\x94\\xe7\\x88\\xac\\xe8\\x99\\xab\\xe7\\xbb\\x9d\\xe9\\x85\\x8dmongodb.html\">\\xe3\\x80\\x90\\xe7\\x88\\xac\\xe8\\x99\\xab\\xe3\\x80\\x91\\xe6\\x8a\\x8a\\xe6\\x8a\\x93\\xe5\\x88\\xb0\\xe6\\x95\\xb0\\xe6\\x8d\\xae\\xe5\\xad\\x98\\xe8\\xb5\\xb7\\xe6\\x9d\\xa5\\xe2\\x80\\x94\\xe2\\x80\\x94\\xe7\\x88\\xac\\xe8\\x99\\xab\\xe7\\xbb\\x9d\\xe9\\x85\\x8dmongodb</a></p>\\n<p><a href=\"http://www.yuqiaochuang.com/post/\\xe3\\x80\\x90\\xe6\\x9c\\x9d\\xe8\\x8a\\xb1\\xe5\\xa4\\x95\\xe6\\x8b\\xbe\\xe3\\x80\\x91\\xe8\\xaf\\xad\\xe5\\x8f\\xa5.html\">\\xe3\\x80\\x90\\xe6\\x9c\\x9d\\xe8\\x8a\\xb1\\xe5\\xa4\\x95\\xe6\\x8b\\xbe\\xe3\\x80\\x91\\xe8\\xaf\\xad\\xe5\\x8f\\xa5</a></p>\\n<p><a href=\"http://www.yuqiaochuang.com/post/\\xe3\\x80\\x90\\xe6\\x9c\\x9d\\xe8\\x8a\\xb1\\xe5\\xa4\\x95\\xe6\\x8b\\xbe\\xe3\\x80\\x91\\xe5\\x87\\xbd\\xe6\\x95\\xb0.html\">\\xe3\\x80\\x90\\xe6\\x9c\\x9d\\xe8\\x8a\\xb1\\xe5\\xa4\\x95\\xe6\\x8b\\xbe\\xe3\\x80\\x91\\xe5\\x87\\xbd\\xe6\\x95\\xb0</a></p>\\n<p><a href=\"http://www.yuqiaochuang.com/post/\\xe3\\x80\\x90\\xe6\\x9c\\x9d\\xe8\\x8a\\xb1\\xe5\\xa4\\x95\\xe6\\x8b\\xbe\\xe3\\x80\\x91\\xe7\\xb1\\xbb.html\">\\xe3\\x80\\x90\\xe6\\x9c\\x9d\\xe8\\x8a\\xb1\\xe5\\xa4\\x95\\xe6\\x8b\\xbe\\xe3\\x80\\x91\\xe7\\xb1\\xbb</a></p>\\n<p><a href=\"http://www.yuqiaochuang.com/post/\\xe3\\x80\\x90\\xe6\\x9c\\x9d\\xe8\\x8a\\xb1\\xe5\\xa4\\x95\\xe6\\x8b\\xbe\\xe3\\x80\\x91\\xe5\\xa4\\x8d\\xe5\\x88\\xb6\\xe4\\xb8\\x8e\\xe5\\xbc\\x95\\xe7\\x94\\xa8\\xe3\\x80\\x81\\xe6\\xb5\\x85\\xe6\\x8b\\xb7\\xe8\\xb4\\x9d\\xe4\\xb8\\x8e\\xe6\\xb7\\xb1\\xe6\\x8b\\xb7\\xe8\\xb4\\x9d.html\">\\xe3\\x80\\x90\\xe6\\x9c\\x9d\\xe8\\x8a\\xb1\\xe5\\xa4\\x95\\xe6\\x8b\\xbe\\xe3\\x80\\x91\\xe5\\xa4\\x8d\\xe5\\x88\\xb6\\xe4\\xb8\\x8e\\xe5\\xbc\\x95\\xe7\\x94\\xa8\\xe3\\x80\\x81\\xe6\\xb5\\x85\\xe6\\x8b\\xb7\\xe8\\xb4\\x9d\\xe4\\xb8\\x8e\\xe6\\xb7\\xb1\\xe6\\x8b\\xb7\\xe8\\xb4\\x9d</a></p>\\n<p><a href=\"http://www.yuqiaochuang.com/post/\\xe5\\xb7\\xa6\\xe6\\x89\\x8b\\xe7\\x94\\xbb\\xe5\\x9c\\x86\\xef\\xbc\\x8c\\xe5\\x8f\\xb3\\xe6\\x89\\x8b\\xe7\\x94\\xbb\\xe6\\x96\\xb9.html\">\\xe3\\x80\\x90\\xe8\\xbf\\x9b\\xe9\\x98\\xb6\\xe3\\x80\\x91\\xe5\\xa4\\x9a\\xe7\\xba\\xbf\\xe7\\xa8\\x8b</a></p>\\n\\n  </div>\\n  \\n      <div id=\"comments\" data-type=\"custom\" data-thread-key=\"d41d8cd98f00b204e9800998ecf8427e\" data-url=\"http://www.yuqiaochuang.com/\">\\n    <h1 class=\"title\">Comments</h1>\\n    \\n\\n      \\n      \"\"\\n      \\n    \\n</div>\\n\\n  \\n  \\n</article>\\n\\n<footer id=\"footer\" class=\"inner\">\\n  &copy; 2019&nbsp;-&nbsp; \\xe9\\x9b\\xa8\\xe6\\x95\\xb2\\xe7\\xaa\\x97\\xe4\\xb8\\xaa\\xe4\\xba\\xba\\xe5\\x8d\\x9a\\xe5\\xae\\xa2\\n  \\n    \\n    \\n    &nbsp;-&nbsp;<a target=\"_blank\" rel=\"nofollow\" class=\"external beian\" href=\"http://www.beian.gov.cn/\">\\xe4\\xba\\xacICP\\xe5\\xa4\\x8717022652\\xe5\\x8f\\xb7</a>\\n    \\n  \\n  <br />\\n  Powered by&nbsp;<a target=\"_blank\" href=\"https://thinkjs.org\">ThinkJS</a>&nbsp;&amp;&nbsp;<a target=\"_blank\" rel=\"nofollow\" class=\"external\" href=\"https://firekylin.org\">FireKylin 1.2.4</a>\\n</footer>\\n</div>\\n<script src=\"/theme/firekylin/res/js/firekylin.js\" data-ls=\"js_firekylin\"></script>\\n\\n  <script>\\nvar _hmt = _hmt || [];\\n(function() {\\n  var hm = document.createElement(\"script\");\\n  hm.src = \"https://hm.baidu.com/hm.js?96ff4d5acc0a512e099afa63cd0b136b\";\\n  var s = document.getElementsByTagName(\"script\")[0]; \\n  s.parentNode.insertBefore(hm, s);\\n})();\\n</script>\\n\\n\\n\\n\\n</body>\\n</html>\\n'"
      ]
     },
     "execution_count": 5,
     "metadata": {},
     "output_type": "execute_result"
    }
   ],
   "source": [
    "from urllib import request\n",
    "resp = request.urlopen('http://www.yuqiaochuang.com/')\n",
    "ret = resp.read()\n",
    "ret\n"
   ]
  },
  {
   "cell_type": "markdown",
   "metadata": {},
   "source": [
    "## 正则"
   ]
  },
  {
   "cell_type": "code",
   "execution_count": 6,
   "metadata": {},
   "outputs": [
    {
     "data": {
      "text/plain": [
       "['abc', 'abc']"
      ]
     },
     "execution_count": 6,
     "metadata": {},
     "output_type": "execute_result"
    }
   ],
   "source": [
    "import re\n",
    "\n",
    "re.findall('abc','aaaaabcccabcc')"
   ]
  },
  {
   "cell_type": "code",
   "execution_count": 7,
   "metadata": {},
   "outputs": [
    {
     "data": {
      "text/plain": [
       "['1', '2']"
      ]
     },
     "execution_count": 7,
     "metadata": {},
     "output_type": "execute_result"
    }
   ],
   "source": [
    "re.findall('\\d','abc1ab2c')"
   ]
  },
  {
   "cell_type": "code",
   "execution_count": 8,
   "metadata": {},
   "outputs": [
    {
     "data": {
      "text/plain": [
       "['1234']"
      ]
     },
     "execution_count": 8,
     "metadata": {},
     "output_type": "execute_result"
    }
   ],
   "source": [
    "re.findall('\\d\\d\\d\\d','123abc1234abc')"
   ]
  },
  {
   "cell_type": "code",
   "execution_count": 18,
   "metadata": {},
   "outputs": [
    {
     "data": {
      "text/plain": [
       "['hello']"
      ]
     },
     "execution_count": 18,
     "metadata": {},
     "output_type": "execute_result"
    }
   ],
   "source": [
    "#要提取代码块中间的使用（）\n",
    "#.*代表任意字符无限个\n",
    "re.findall(r'<div>(.*)</div>','<div>hello</div>')"
   ]
  },
  {
   "cell_type": "code",
   "execution_count": 23,
   "metadata": {},
   "outputs": [
    {
     "data": {
      "text/plain": [
       "['hello</div><div>world']"
      ]
     },
     "execution_count": 23,
     "metadata": {},
     "output_type": "execute_result"
    }
   ],
   "source": [
    "#贪婪匹配，会匹配最长的<div></div>\n",
    "re.findall(r'<div>(.*)</div>','<div>hello</div><div>world</div>')"
   ]
  },
  {
   "cell_type": "code",
   "execution_count": 22,
   "metadata": {},
   "outputs": [
    {
     "data": {
      "text/plain": [
       "['hello', 'world']"
      ]
     },
     "execution_count": 22,
     "metadata": {},
     "output_type": "execute_result"
    }
   ],
   "source": [
    "#.*后面加个？就是非贪婪模式，会把所有div块中间的字符提取出来\n",
    "re.findall(r'<div>(.*?)</div>','<div>hello</div><div>world</div>')"
   ]
  },
  {
   "cell_type": "markdown",
   "metadata": {},
   "source": [
    "## 提取博客的title 匹配换行 re.S"
   ]
  },
  {
   "cell_type": "code",
   "execution_count": 31,
   "metadata": {},
   "outputs": [
    {
     "name": "stdout",
     "output_type": "stream",
     "text": [
      "学前必读\n",
      "变量\n",
      "运算符\n",
      "语句\n",
      "list、tuple、dict、set\n",
      "函数\n",
      "类\n",
      "模块\n",
      "字符串处理\n",
      "文件读写\n",
      "【数据结构】数组和链表\n",
      "【数据结构】队列和栈\n",
      "【数据结构】树\n",
      "【数据结构】排序\n",
      "【数据结构】排序代码\n",
      "二分查找\n",
      "【数据结构】堆\n",
      "【数据结构】堆 python实现\n",
      "【爬虫】初识http\n",
      "【爬虫】正则表达式\n",
      "【爬虫】正则表达式语法\n",
      "【爬虫】实战——糗事百科段子\n",
      "【爬虫】实战——糗事百科图片\n",
      "【爬虫】再见正则，你好beautifulsoup\n",
      "【爬虫】chrome抓包——抓取动态网站\n",
      "【爬虫】大杀器——phantomJS+selenium\n",
      "【爬虫】把抓到数据存起来——爬虫绝配mongodb\n",
      "【朝花夕拾】语句\n",
      "【朝花夕拾】函数\n",
      "【朝花夕拾】类\n",
      "【朝花夕拾】复制与引用、浅拷贝与深拷贝\n",
      "【进阶】多线程\n"
     ]
    }
   ],
   "source": [
    "from urllib import request\n",
    "import re\n",
    "resp = request.urlopen('http://www.yuqiaochuang.com/')\n",
    "html = resp.read()\n",
    "m = re.findall(r'<p>.*?>(.*?)</a></p>',html.decode('utf-8'),re.S)#re.S可以匹配换行的字符串\n",
    "for t in m:\n",
    "    print(t)"
   ]
  },
  {
   "cell_type": "markdown",
   "metadata": {},
   "source": [
    "## 正则表达式常用语法"
   ]
  },
  {
   "cell_type": "markdown",
   "metadata": {},
   "source": [
    "### 匹配开头"
   ]
  },
  {
   "cell_type": "code",
   "execution_count": 32,
   "metadata": {},
   "outputs": [
    {
     "data": {
      "text/plain": [
       "['abc']"
      ]
     },
     "execution_count": 32,
     "metadata": {},
     "output_type": "execute_result"
    }
   ],
   "source": [
    "re.findall('^abc','abcabc')"
   ]
  },
  {
   "cell_type": "markdown",
   "metadata": {},
   "source": [
    "### 匹配结尾"
   ]
  },
  {
   "cell_type": "code",
   "execution_count": 33,
   "metadata": {},
   "outputs": [
    {
     "data": {
      "text/plain": [
       "['abc']"
      ]
     },
     "execution_count": 33,
     "metadata": {},
     "output_type": "execute_result"
    }
   ],
   "source": [
    "re.findall('abc$','abcabc')"
   ]
  },
  {
   "cell_type": "markdown",
   "metadata": {},
   "source": [
    "### 不区分大小写"
   ]
  },
  {
   "cell_type": "code",
   "execution_count": 34,
   "metadata": {},
   "outputs": [
    {
     "data": {
      "text/plain": [
       "['abc', 'ABc']"
      ]
     },
     "execution_count": 34,
     "metadata": {},
     "output_type": "execute_result"
    }
   ],
   "source": [
    "re.findall('abc','abcdABc',re.I)"
   ]
  },
  {
   "cell_type": "markdown",
   "metadata": {},
   "source": [
    "### 匹配换行,正则匹配默认是一行一行匹配的。要匹配换行需要指定re.S"
   ]
  },
  {
   "cell_type": "code",
   "execution_count": 45,
   "metadata": {},
   "outputs": [
    {
     "name": "stdout",
     "output_type": "stream",
     "text": [
      "[]\n",
      "['hello\\nworld']\n"
     ]
    }
   ],
   "source": [
    "s = '<div>hello\\nworld</div>'\n",
    "print(re.findall(r'<div>(.*)</div>',s))\n",
    "print(re.findall(r'<div>(.*)</div>',s,re.S))"
   ]
  },
  {
   "cell_type": "markdown",
   "metadata": {},
   "source": [
    "### 即匹配多行又匹配大小写(组合使用)"
   ]
  },
  {
   "cell_type": "code",
   "execution_count": 49,
   "metadata": {},
   "outputs": [
    {
     "name": "stdout",
     "output_type": "stream",
     "text": [
      "['hello\\nworld']\n"
     ]
    }
   ],
   "source": [
    "s = '<diV>hello\\nworld</div>'\n",
    "print(re.findall(r'<div>(.*)</div>',s,re.S | re.I))"
   ]
  },
  {
   "cell_type": "markdown",
   "metadata": {},
   "source": [
    "### 匹配多行"
   ]
  },
  {
   "cell_type": "code",
   "execution_count": 38,
   "metadata": {},
   "outputs": [
    {
     "data": {
      "text/plain": [
       "['abc']"
      ]
     },
     "execution_count": 38,
     "metadata": {},
     "output_type": "execute_result"
    }
   ],
   "source": [
    "re.findall('^abc','abc\\nabc')"
   ]
  },
  {
   "cell_type": "code",
   "execution_count": 44,
   "metadata": {},
   "outputs": [
    {
     "data": {
      "text/plain": [
       "['abc', 'abc']"
      ]
     },
     "execution_count": 44,
     "metadata": {},
     "output_type": "execute_result"
    }
   ],
   "source": [
    "re.findall('^abc','abc\\nabc',re.M)"
   ]
  },
  {
   "cell_type": "markdown",
   "metadata": {},
   "source": [
    "### 匹配一个或0个"
   ]
  },
  {
   "cell_type": "code",
   "execution_count": 50,
   "metadata": {},
   "outputs": [
    {
     "data": {
      "text/plain": [
       "['ab', 'ab']"
      ]
     },
     "execution_count": 50,
     "metadata": {},
     "output_type": "execute_result"
    }
   ],
   "source": [
    "re.findall('ab?','abbbbab')"
   ]
  },
  {
   "cell_type": "markdown",
   "metadata": {},
   "source": [
    "### 匹配至少一个"
   ]
  },
  {
   "cell_type": "code",
   "execution_count": 52,
   "metadata": {},
   "outputs": [
    {
     "data": {
      "text/plain": [
       "['abbbb', 'ab']"
      ]
     },
     "execution_count": 52,
     "metadata": {},
     "output_type": "execute_result"
    }
   ],
   "source": [
    "re.findall('ab+','abbbbab')"
   ]
  },
  {
   "cell_type": "markdown",
   "metadata": {},
   "source": [
    "### 匹配至少0个"
   ]
  },
  {
   "cell_type": "code",
   "execution_count": 53,
   "metadata": {},
   "outputs": [
    {
     "data": {
      "text/plain": [
       "['abbbb', 'ab']"
      ]
     },
     "execution_count": 53,
     "metadata": {},
     "output_type": "execute_result"
    }
   ],
   "source": [
    "re.findall('ab*','abbbbab')"
   ]
  },
  {
   "cell_type": "markdown",
   "metadata": {},
   "source": [
    "### 如果是多次调用某个正则，推荐先编译后使用"
   ]
  },
  {
   "cell_type": "code",
   "execution_count": 57,
   "metadata": {},
   "outputs": [
    {
     "name": "stdout",
     "output_type": "stream",
     "text": [
      "['abc']\n",
      "['abc']\n",
      "[]\n"
     ]
    }
   ],
   "source": [
    "p = re.compile('^abc')\n",
    "print(p.findall('abc\\nabc'))\n",
    "print(p.findall('abcdef\\nfdsfab'))\n",
    "print(p.findall('dabcdef\\nefdsabc'))"
   ]
  },
  {
   "cell_type": "code",
   "execution_count": null,
   "metadata": {},
   "outputs": [],
   "source": []
  }
 ],
 "metadata": {
  "kernelspec": {
   "display_name": "tf",
   "language": "python",
   "name": "tf"
  },
  "language_info": {
   "codemirror_mode": {
    "name": "ipython",
    "version": 3
   },
   "file_extension": ".py",
   "mimetype": "text/x-python",
   "name": "python",
   "nbconvert_exporter": "python",
   "pygments_lexer": "ipython3",
   "version": "3.6.8"
  },
  "toc": {
   "base_numbering": 1,
   "nav_menu": {},
   "number_sections": true,
   "sideBar": true,
   "skip_h1_title": false,
   "title_cell": "Table of Contents",
   "title_sidebar": "Contents",
   "toc_cell": false,
   "toc_position": {},
   "toc_section_display": true,
   "toc_window_display": false
  }
 },
 "nbformat": 4,
 "nbformat_minor": 2
}
