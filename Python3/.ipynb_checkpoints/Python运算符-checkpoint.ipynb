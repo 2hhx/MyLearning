{
 "cells": [
  {
   "cell_type": "markdown",
   "metadata": {},
   "source": [
    "### 逻辑运算符"
   ]
  },
  {
   "cell_type": "markdown",
   "metadata": {},
   "source": [
    "and 与关系。len似C++中的&&\n",
    "or 或关系。类似C++的||\n",
    "not 非关系。类似C++！"
   ]
  },
  {
   "cell_type": "code",
   "execution_count": 12,
   "metadata": {},
   "outputs": [
    {
     "name": "stdout",
     "output_type": "stream",
     "text": [
      "success\n",
      "he is not alan\n"
     ]
    }
   ],
   "source": [
    "user_name = 'alan1'\n",
    "email = 'aaa@163.com'\n",
    "password = '123456'\n",
    "# if user_name == 'alan' and password == '123456':\n",
    "if (user_name == 'alan' or email == 'aaa@163.com') and password == '123456':\n",
    "    print('success')\n",
    "else:\n",
    "    print('wrong')\n",
    "\n",
    "\n",
    "# if user_name != 'alan':\n",
    "if not user_name == 'alan':\n",
    "    print('he is not alan')\n"
   ]
  },
  {
   "cell_type": "markdown",
   "metadata": {},
   "source": [
    "### 成员运算符"
   ]
  },
  {
   "cell_type": "markdown",
   "metadata": {},
   "source": [
    "in 在指定容器中找到返回True，否则返回False\n",
    "not in 在指定容器中未找到返回True，否则返回False"
   ]
  },
  {
   "cell_type": "code",
   "execution_count": 18,
   "metadata": {},
   "outputs": [
    {
     "name": "stdout",
     "output_type": "stream",
     "text": [
      "True\n",
      "False\n",
      "True\n",
      "True\n"
     ]
    }
   ],
   "source": [
    "li = [1,2,3,4,5]\n",
    "print(1 in li)\n",
    "\n",
    "dict = {1:'11',2:'22',3:'33'}\n",
    "print(4 in dict)\n",
    "\n",
    "s = set()#注意在创建空集合的时候只能使用s=set()，因为s={}创建的是空字典\n",
    "s = {1,2,3,4,5}\n",
    "print(1 in s)\n",
    "\n",
    "tuple = (1,2,3,4,5)\n",
    "print(1 in tuple)"
   ]
  },
  {
   "cell_type": "markdown",
   "metadata": {},
   "source": [
    "### 身份运算符"
   ]
  },
  {
   "cell_type": "code",
   "execution_count": null,
   "metadata": {},
   "outputs": [],
   "source": [
    "is 两个变量引用自同一个对象返True\n",
    "not is 两个变量不是引用自同一个对象返回True"
   ]
  },
  {
   "cell_type": "code",
   "execution_count": null,
   "metadata": {},
   "outputs": [],
   "source": []
  }
 ],
 "metadata": {
  "kernelspec": {
   "display_name": "Python 3",
   "language": "python 3.5",
   "name": "python3"
  },
  "language_info": {
   "codemirror_mode": {
    "name": "ipython",
    "version": 3
   },
   "file_extension": ".py",
   "mimetype": "text/x-python",
   "name": "python",
   "nbconvert_exporter": "python",
   "pygments_lexer": "ipython3",
   "version": "3.6.8"
  },
  "toc": {
   "base_numbering": 1,
   "nav_menu": {},
   "number_sections": true,
   "sideBar": true,
   "skip_h1_title": false,
   "title_cell": "Table of Contents",
   "title_sidebar": "Contents",
   "toc_cell": false,
   "toc_position": {},
   "toc_section_display": true,
   "toc_window_display": false
  }
 },
 "nbformat": 4,
 "nbformat_minor": 2
}
