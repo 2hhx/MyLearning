{
 "cells": [
  {
   "cell_type": "markdown",
   "metadata": {},
   "source": [
    " ### Property "
   ]
  },
  {
   "cell_type": "code",
   "execution_count": null,
   "metadata": {},
   "outputs": [],
   "source": [
    "class Rectangle:\n",
    "    def __init__(self,length,width):\n",
    "        self.length = length\n",
    "        self.width = width\n",
    "        self.area = length*width\n",
    "\n",
    "rectangle = Rectangle(5,2)\n",
    "rectangle.area"
   ]
  },
  {
   "cell_type": "markdown",
   "metadata": {},
   "source": [
    "有一个严重的问题，area属性被暴露出来，可以对area属性进行随意修改，但是area=w*l\n",
    "一个可能的解决方法是通过set和get函数来对area进行读写\n",
    "\n",
    "还有一个方法就是使用@property修饰符"
   ]
  },
  {
   "cell_type": "code",
   "execution_count": 2,
   "metadata": {},
   "outputs": [
    {
     "data": {
      "text/plain": [
       "10"
      ]
     },
     "execution_count": 2,
     "metadata": {},
     "output_type": "execute_result"
    }
   ],
   "source": [
    "class Rectangle:\n",
    "    def __init__(self,length,width):\n",
    "        self.length = length\n",
    "        self.width = width\n",
    "    \n",
    "    def get_area(self):\n",
    "        return self.length * self.width\n",
    "\n",
    "rectangle = Rectangle(5,2)\n",
    "rectangle.get_area()"
   ]
  },
  {
   "cell_type": "markdown",
   "metadata": {},
   "source": [
    "### @property\n",
    "\n",
    "一个类里定义的方法一旦被@property装饰，可以像使用属性一样去使用这个方法"
   ]
  },
  {
   "cell_type": "code",
   "execution_count": 6,
   "metadata": {},
   "outputs": [
    {
     "data": {
      "text/plain": [
       "int"
      ]
     },
     "execution_count": 6,
     "metadata": {},
     "output_type": "execute_result"
    }
   ],
   "source": [
    "class Rectangle:\n",
    "    def __init__(self,length,width):\n",
    "        self.length = length\n",
    "        self.width = width\n",
    "    \n",
    "    @property\n",
    "    def area(self):\n",
    "        return self.length*self.width\\\n",
    "    \n",
    "rectangle = Rectangle(5,2)\n",
    "rectangle.area"
   ]
  },
  {
   "cell_type": "markdown",
   "metadata": {},
   "source": [
    "### 使用property代替getter和setter方法"
   ]
  },
  {
   "cell_type": "code",
   "execution_count": 10,
   "metadata": {},
   "outputs": [
    {
     "name": "stdout",
     "output_type": "stream",
     "text": [
      "Python进阶\n",
      "58.5\n",
      "50.0\n"
     ]
    }
   ],
   "source": [
    "class Book:\n",
    "    def __init__(self,name,price):\n",
    "        self._name = name#私有化属性\n",
    "        self._price = price\n",
    "    \n",
    "    def get_name(self):\n",
    "        return self._name\n",
    "    \n",
    "    def set_name(self,name):\n",
    "        self._name = name\n",
    "        \n",
    "    def get_price(self):\n",
    "        return self._price\n",
    "    \n",
    "    def set_price(self,price):\n",
    "        self._price = price\n",
    "    \n",
    "book = Book('Python进阶',58.5)\n",
    "print(book.get_name())\n",
    "print(book.get_price())\n",
    "\n",
    "book.set_price(50.0)\n",
    "print(book.get_price())"
   ]
  },
  {
   "cell_type": "markdown",
   "metadata": {},
   "source": [
    "使用@property装饰器修饰price方法后，你就可以像使用属性一样使用price,如果你希望对price进行赋值操作，那么需要用@price.setter装饰器再修饰一个方法，该方法完成对_price属性的赋值操作\n",
    "\n",
    "我们以为自己直接操作了对象的属性，但其实我们是在使用类的方法，而且关键的是省去了调用方法时的那对小括号"
   ]
  },
  {
   "cell_type": "code",
   "execution_count": 27,
   "metadata": {},
   "outputs": [
    {
     "name": "stdout",
     "output_type": "stream",
     "text": [
      "Python进阶\n",
      "58.5\n",
      "50\n"
     ]
    }
   ],
   "source": [
    "class Book:\n",
    "    def __init__(self,name,price):\n",
    "        self._name = name\n",
    "        self._price = price\n",
    "    \n",
    "    @property\n",
    "    def name2(self):\n",
    "        pass\n",
    "    \n",
    "    @name2.getter\n",
    "    def name2(self):\n",
    "        return self._name\n",
    "    \n",
    "    @name2.setter\n",
    "    def name2(self,name):\n",
    "        self._name = name\n",
    "    \n",
    "    @property\n",
    "    def price(self):\n",
    "        return self._price\n",
    "    \n",
    "    @price.setter\n",
    "    def price(self,price):\n",
    "        if price > 0:\n",
    "            self._price = price\n",
    "        else:\n",
    "            raise('price must be bigger than 0 ')\n",
    "\n",
    "book = Book('Python进阶',58.5)\n",
    "print(book.name2)\n",
    "print(book.price)\n",
    "\n",
    "book.price = 50\n",
    "print(book.price)"
   ]
  },
  {
   "cell_type": "markdown",
   "metadata": {},
   "source": [
    "### python函数 "
   ]
  },
  {
   "cell_type": "code",
   "execution_count": 2,
   "metadata": {},
   "outputs": [],
   "source": [
    "#不定长参数,不确定有多少个参数，后面的所有参数都存放在*后面的变量里\n",
    "def print_args(s,*arg):\n",
    "    print(s)\n",
    "    for a in arg:\n",
    "        print(a)\n",
    "    #return后面可以什么都不接，只是用return表示函数运行完毕\n",
    "    return"
   ]
  },
  {
   "cell_type": "code",
   "execution_count": 3,
   "metadata": {},
   "outputs": [
    {
     "name": "stdout",
     "output_type": "stream",
     "text": [
      "hello\n",
      "hello\n",
      "world\n",
      "1\n"
     ]
    }
   ],
   "source": [
    "print_args('hello')\n",
    "print_args('hello','world','1')"
   ]
  },
  {
   "cell_type": "markdown",
   "metadata": {},
   "source": [
    "### Python类"
   ]
  },
  {
   "cell_type": "code",
   "execution_count": 4,
   "metadata": {},
   "outputs": [],
   "source": [
    "#定义：用关键字class定义一个类，如果没有指定父类，默认继承object类\n",
    "class Human(object):\n",
    "    pass"
   ]
  },
  {
   "cell_type": "code",
   "execution_count": 5,
   "metadata": {},
   "outputs": [],
   "source": [
    "#类属性，属于类的，这个属性是和类绑定的，不是和实例绑定的。\n",
    "#比如胎生这个属性是全人类共有的没并不是某个人特殊拥有的属性\n",
    "class Human(object):\n",
    "    taisheng = True"
   ]
  },
  {
   "cell_type": "code",
   "execution_count": 12,
   "metadata": {},
   "outputs": [],
   "source": [
    "#实例属性\n",
    "class Human(object):\n",
    "    def __init__(self,name):\n",
    "        self.name = name\n",
    "human_a = Human('alan')\n",
    "# '''我们首先实例化一个人类human_a,然后给这个人类设置了一个实例属性name，name这个属性\n",
    "# 属于独立于其他的人类，是和实力绑定的，所以交叫实例属性\n",
    "# ***实例属性可以在实例创建后任意时间设置\n",
    "# ***一般放在构造函数__init__里\n",
    "# '''"
   ]
  },
  {
   "cell_type": "code",
   "execution_count": 13,
   "metadata": {},
   "outputs": [],
   "source": [
    "# '''访问控制，从上面例子来看，我们可以在外部随意更改name这个属性，如果不想让外部直接访问到，\n",
    "# 则在属性名字前面加两个下划线，__name,如果还是想访问，可以再加个get的接口，修改set''' "
   ]
  },
  {
   "cell_type": "code",
   "execution_count": 25,
   "metadata": {},
   "outputs": [
    {
     "name": "stdout",
     "output_type": "stream",
     "text": [
      "alan\n",
      "bob is walking\n",
      "None\n"
     ]
    }
   ],
   "source": [
    "class Human(object):\n",
    "    def __init__(self,name):\n",
    "        self.__name = name\n",
    "    def walk(self):\n",
    "        print(self.__name+' is walking')\n",
    "    def get_name(self):\n",
    "        return self.__name\n",
    "    def set_name(self,name):\n",
    "        if len(name) <= 10:#通过set接口可以限制name的长度\n",
    "            self.__name = name\n",
    "human_a = Human('alan') \n",
    "print(human_a.get_name())\n",
    "human_a.set_name('bob')\n",
    "print(human_a.walk())\n",
    "# print(human_a.__name)#会报错，就是从外边是无法直接访问到name的"
   ]
  },
  {
   "cell_type": "markdown",
   "metadata": {},
   "source": [
    "### 继承\n",
    "#### 子类拥有父类的属性、方法，即继承。同时又可以拥有父类没有的属性和方法，即多态"
   ]
  },
  {
   "cell_type": "code",
   "execution_count": 32,
   "metadata": {},
   "outputs": [],
   "source": [
    "#一般不这么写子类的构造函数，如果父类有很多的属性不用全都复制粘贴一遍\n",
    "class Man(Human):\n",
    "    def __init__(self,name,has_wife):\n",
    "        self.__name = name\n",
    "        self.__has_wife = has_wife"
   ]
  },
  {
   "cell_type": "code",
   "execution_count": 33,
   "metadata": {},
   "outputs": [],
   "source": [
    "class Man(Human):\n",
    "    def __init__(self,name,has_wife):\n",
    "        #super(Man,self).__init__(name)等价于调用了父类Human的构造函数\n",
    "        super(Man,self).__init__(name)\n",
    "        self.__has_wife = has_wife \n",
    "    def smoke(self):\n",
    "        print('A man maybe smoke')\n",
    "    def drink(self):\n",
    "        print('A man maybe drink')"
   ]
  },
  {
   "cell_type": "code",
   "execution_count": 39,
   "metadata": {},
   "outputs": [
    {
     "name": "stdout",
     "output_type": "stream",
     "text": [
      "A woman always go shopping\n"
     ]
    }
   ],
   "source": [
    "class Woman(Human):\n",
    "    def __init__(self,name,has_husband):\n",
    "        super(Woman,self).__init__(name)\n",
    "        self.__has_husband = has_husband  \n",
    "    def shopping(self):\n",
    "        print('A woman always go shopping')\n",
    "    def make_up(self):\n",
    "        print('A woman always make up')\n",
    "woman_a = Woman('wo',True)\n",
    "woman_a.shopping()"
   ]
  },
  {
   "cell_type": "code",
   "execution_count": 2,
   "metadata": {},
   "outputs": [],
   "source": [
    "class Calculator:\n",
    "    #属性\n",
    "    name = 'Good Calculator'\n",
    "    price = 18\n",
    "    #self不加是类方法，加了是对象方法，不加要用类名访问，比如Calculator.add(x,y)\n",
    "    #不加self的是静态类，用类名.函数名调用\n",
    "    def add(self,x,y):\n",
    "        #方法里可以通过self调用自己的属性\n",
    "        print(self.name)\n",
    "        print(x+y)\n",
    "        \n",
    "    def minus(self,x,y):\n",
    "        print(x-y)\n",
    "        \n",
    "    def times(self,x,y):\n",
    "        print(x*y)\n",
    "    \n",
    "    def divide(x,y):\n",
    "        print(x/y)\n"
   ]
  },
  {
   "cell_type": "code",
   "execution_count": 3,
   "metadata": {},
   "outputs": [
    {
     "data": {
      "text/plain": [
       "'Good Calculator'"
      ]
     },
     "execution_count": 3,
     "metadata": {},
     "output_type": "execute_result"
    }
   ],
   "source": [
    "#类的实例化\n",
    "cal = Calculator()\n",
    "#调用类对象不用打括号\n",
    "cal.name"
   ]
  },
  {
   "cell_type": "code",
   "execution_count": 4,
   "metadata": {},
   "outputs": [
    {
     "name": "stdout",
     "output_type": "stream",
     "text": [
      "Good Calculator\n",
      "21\n"
     ]
    }
   ],
   "source": [
    "cal.add(10,11)"
   ]
  },
  {
   "cell_type": "code",
   "execution_count": 6,
   "metadata": {},
   "outputs": [
    {
     "name": "stdout",
     "output_type": "stream",
     "text": [
      "5.0\n"
     ]
    }
   ],
   "source": [
    "Calculator.divide(10,2)#因为divide没加self，是静态方法。"
   ]
  },
  {
   "cell_type": "markdown",
   "metadata": {},
   "source": [
    "#类init"
   ]
  },
  {
   "cell_type": "code",
   "execution_count": 6,
   "metadata": {},
   "outputs": [],
   "source": [
    "class CalculatorInit:\n",
    "    #固有属性\n",
    "    name = 'Good Calculator'\n",
    "    price = 18\n",
    "    #建立需要自己输入的属性\n",
    "    def __init__(self,name,price,height,width):\n",
    "        self.name = name\n",
    "        self.price = price\n",
    "        self.height = height\n",
    "        self.width = width\n",
    "        #也可以在init里调用方法，在类初始化的时候就执行\n",
    "        self.add(1,2)\n",
    "    #self不加是类方法，加了是对象方法，不加要用类名访问，比如Calculator.add(x,y)\n",
    "    #不加self的是静态类，用类名.函数名调用\n",
    "    def add(self,x,y):\n",
    "        #方法里可以通过self调用自己的属性\n",
    "        print(self.name)\n",
    "        print(x+y)\n",
    "        \n",
    "    def minus(self,x,y):\n",
    "        print(x-y)\n",
    "        \n",
    "    def times(self,x,y):\n",
    "        print(x*y)\n",
    "    \n",
    "    def divide(x,y):\n",
    "        print(x/y)\n"
   ]
  },
  {
   "cell_type": "code",
   "execution_count": 19,
   "metadata": {},
   "outputs": [
    {
     "name": "stdout",
     "output_type": "stream",
     "text": [
      "Good calculator233\n",
      "3\n"
     ]
    }
   ],
   "source": [
    "#有init后会出错c = CalculatorInit() __init__() missing 4 required positional arguments: 'name', 'price', 'height', and 'width'\n",
    "c = CalculatorInit('Good calculator233',12,30,15) "
   ]
  },
  {
   "cell_type": "code",
   "execution_count": 16,
   "metadata": {},
   "outputs": [
    {
     "data": {
      "text/plain": [
       "'Good calculator233'"
      ]
     },
     "execution_count": 16,
     "metadata": {},
     "output_type": "execute_result"
    }
   ],
   "source": [
    "c.name"
   ]
  },
  {
   "cell_type": "code",
   "execution_count": 7,
   "metadata": {},
   "outputs": [
    {
     "data": {
      "text/plain": [
       "'Good Calculator'"
      ]
     },
     "execution_count": 7,
     "metadata": {},
     "output_type": "execute_result"
    }
   ],
   "source": [
    "CalculatorInit.name#可以直接通过类名.属性名调用类属性"
   ]
  },
  {
   "cell_type": "code",
   "execution_count": 8,
   "metadata": {},
   "outputs": [
    {
     "ename": "AttributeError",
     "evalue": "type object 'CalculatorInit' has no attribute 'height'",
     "output_type": "error",
     "traceback": [
      "\u001b[1;31m---------------------------------------------------------------------------\u001b[0m",
      "\u001b[1;31mAttributeError\u001b[0m                            Traceback (most recent call last)",
      "\u001b[1;32m<ipython-input-8-06a6fbece72d>\u001b[0m in \u001b[0;36m<module>\u001b[1;34m()\u001b[0m\n\u001b[1;32m----> 1\u001b[1;33m \u001b[0mCalculatorInit\u001b[0m\u001b[1;33m.\u001b[0m\u001b[0mheight\u001b[0m\u001b[1;33m\u001b[0m\u001b[1;33m\u001b[0m\u001b[0m\n\u001b[0m",
      "\u001b[1;31mAttributeError\u001b[0m: type object 'CalculatorInit' has no attribute 'height'"
     ]
    }
   ],
   "source": [
    "CalculatorInit.height#对象属性必须通过对象/实例.属性名调用"
   ]
  },
  {
   "cell_type": "code",
   "execution_count": null,
   "metadata": {},
   "outputs": [],
   "source": []
  }
 ],
 "metadata": {
  "kernelspec": {
   "display_name": "MachineLearning",
   "language": "python",
   "name": "machinelearning"
  },
  "language_info": {
   "codemirror_mode": {
    "name": "ipython",
    "version": 3
   },
   "file_extension": ".py",
   "mimetype": "text/x-python",
   "name": "python",
   "nbconvert_exporter": "python",
   "pygments_lexer": "ipython3",
   "version": "3.6.9"
  },
  "toc": {
   "base_numbering": 1,
   "nav_menu": {},
   "number_sections": true,
   "sideBar": true,
   "skip_h1_title": false,
   "title_cell": "Table of Contents",
   "title_sidebar": "Contents",
   "toc_cell": false,
   "toc_position": {},
   "toc_section_display": true,
   "toc_window_display": false
  }
 },
 "nbformat": 4,
 "nbformat_minor": 4
}
