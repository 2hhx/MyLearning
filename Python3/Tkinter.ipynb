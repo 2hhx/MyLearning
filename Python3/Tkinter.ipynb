{
 "cells": [
  {
   "cell_type": "markdown",
   "metadata": {},
   "source": [
    "### Label & Button"
   ]
  },
  {
   "cell_type": "code",
   "execution_count": 1,
   "metadata": {},
   "outputs": [],
   "source": [
    "import tkinter as tk"
   ]
  },
  {
   "cell_type": "code",
   "execution_count": 23,
   "metadata": {},
   "outputs": [],
   "source": [
    "window = tk.Tk()\n",
    "window.title('my window')\n",
    "window.geometry('200x100')\n",
    "\n",
    "var = tk.StringVar()\n",
    "\n",
    "l = tk.Label(window,textvariable=var,bg='green',font=('Arial',12),width=15,\n",
    "             height=2)\n",
    "l.pack()\n",
    "\n",
    "on_hit = False\n",
    "\n",
    "def hit_me():\n",
    "    #在函数内部的作用域内的变量如果不声名的话和全局变量定义的不是一个变量，\n",
    "    #函数内部修改外面也不会变化\n",
    "    global on_hit \n",
    "    if on_hit == False:\n",
    "        on_hit = True\n",
    "        var.set('you hit me')\n",
    "    else:\n",
    "        on_hit = False\n",
    "        var.set(\"\")\n",
    "    \n",
    "b = tk.Button(window,text='Hit', width=15,height=2,command=hit_me)\n",
    "b.pack()\n",
    "window.mainloop()"
   ]
  },
  {
   "cell_type": "markdown",
   "metadata": {},
   "source": [
    "### Entry & Text输入，文本框"
   ]
  },
  {
   "cell_type": "code",
   "execution_count": 39,
   "metadata": {},
   "outputs": [],
   "source": [
    "window = tk.Tk()\n",
    "window.title('my window')\n",
    "window.geometry('200x200')\n",
    "\n",
    "def insert_point():\n",
    "    var = e.get()\n",
    "    t.insert('insert',var)\n",
    "    \n",
    "def insert_end():\n",
    "    var = e.get()\n",
    "    t.insert('end',var)\n",
    "\n",
    "def insert_customize():\n",
    "    var = e.get()\n",
    "    t.insert(1.1,var)#在第一行，第二列插入\n",
    "    \n",
    "e = tk.Entry(window,show=None)#show='*'就是密码框\n",
    "e.pack()\n",
    "\n",
    "b1 = tk.Button(window,text='insert point', width=15,height=2,command=insert_point)\n",
    "b1.pack()\n",
    "\n",
    "b2 = tk.Button(window,text='insert end',command=insert_end)\n",
    "b2.pack()\n",
    "\n",
    "t = tk.Text(window,height=2)\n",
    "t.pack()\n",
    "\n",
    "window.mainloop()"
   ]
  },
  {
   "cell_type": "markdown",
   "metadata": {},
   "source": [
    "### 全局和局部变量"
   ]
  },
  {
   "cell_type": "code",
   "execution_count": 36,
   "metadata": {},
   "outputs": [
    {
     "name": "stdout",
     "output_type": "stream",
     "text": [
      "False\n"
     ]
    }
   ],
   "source": [
    "var = True\n",
    "def modify():\n",
    "    global var\n",
    "    var = False\n",
    "modify()\n",
    "print(var)"
   ]
  },
  {
   "cell_type": "code",
   "execution_count": 37,
   "metadata": {},
   "outputs": [
    {
     "name": "stdout",
     "output_type": "stream",
     "text": [
      "True\n"
     ]
    }
   ],
   "source": [
    "var = True\n",
    "def modify():\n",
    "    var = False\n",
    "modify()\n",
    "print(var)"
   ]
  },
  {
   "cell_type": "markdown",
   "metadata": {},
   "source": [
    "### Listbox 列表部件"
   ]
  },
  {
   "cell_type": "code",
   "execution_count": 2,
   "metadata": {},
   "outputs": [],
   "source": [
    "window = tk.Tk()\n",
    "window.title('my window')\n",
    "window.geometry('200x200')\n",
    "\n",
    "def print_selection():\n",
    "    value = lb.get(lb.curselection())\n",
    "    var1.set(value)\n",
    "\n",
    "def delete():\n",
    "    lb.delete(lb.curselection())\n",
    "    \n",
    "var1 = tk.StringVar()    \n",
    "\n",
    "l = tk.Label(window,bg='yellow',width=4,textvariable=var1)\n",
    "l.pack()\n",
    "\n",
    "b1 = tk.Button(window,text='print selection',\n",
    "               width=15,height=2,command=print_selection)\n",
    "b1.pack()\n",
    "\n",
    "b2 = tk.Button(window,text='delete',\n",
    "               width=15,height=2,command=delete)\n",
    "b2.pack()\n",
    "\n",
    "var2 = tk.StringVar()\n",
    "var2.set((11,22,33,44))\n",
    "\n",
    "lb = tk.Listbox(window,listvariable=var2)\n",
    "list_items = [1,2,3,4]\n",
    "\n",
    "for item in list_items:\n",
    "    lb.insert('end',item)\n",
    "\n",
    "lb.insert(1,'first')\n",
    "lb.insert(2,'second')\n",
    "# lb.delete(2)\n",
    "lb.pack()\n",
    "window.mainloop()"
   ]
  },
  {
   "cell_type": "markdown",
   "metadata": {},
   "source": [
    "### radioButton"
   ]
  },
  {
   "cell_type": "code",
   "execution_count": 52,
   "metadata": {},
   "outputs": [],
   "source": [
    "#方法1\n",
    "window = tk.Tk()\n",
    "window.title('my window')\n",
    "window.geometry('200x200')\n",
    "\n",
    "var = tk.StringVar()    \n",
    "\n",
    "l = tk.Label(window,bg='yellow',width=20,text='empty')\n",
    "l.pack()\n",
    "\n",
    "def print_selection():\n",
    "#     l.config(text='you have selected'+var.get())\n",
    "\n",
    "#实现传值，value的值传给variable\n",
    "r1 = tk.Radiobutton(window,text='Option A',variable=var,\n",
    "                    value='A',command=print_selection)\n",
    "\n",
    "r2 = tk.Radiobutton(window,text='Option B',variable=var,\n",
    "                    value='B',command=print_selection)\n",
    "\n",
    "r3 = tk.Radiobutton(window,text='Option C',variable=var,\n",
    "                    value='C',command=print_selection)\n",
    "r1.pack()\n",
    "r2.pack()\n",
    "r3.pack()\n",
    "\n",
    "window.mainloop() "
   ]
  },
  {
   "cell_type": "code",
   "execution_count": 54,
   "metadata": {},
   "outputs": [],
   "source": [
    "#方法2\n",
    "window = tk.Tk()\n",
    "window.title('my window')\n",
    "window.geometry('200x200')\n",
    "\n",
    "var = tk.StringVar()    \n",
    "var2 = tk.StringVar()\n",
    "l = tk.Label(window,bg='yellow',width=20,textvariable=var2)\n",
    "l.pack()\n",
    "\n",
    "def print_selection():\n",
    "#     l.config(text='you have selected'+var.get())\n",
    "    var2.set('you have selected '+var.get())#不能用逗号，会认为是两个参数\n",
    "\n",
    "#实现传值，value的值传给variable\n",
    "r1 = tk.Radiobutton(window,text='Option A',variable=var,\n",
    "                    value='A',command=print_selection)\n",
    "\n",
    "r2 = tk.Radiobutton(window,text='Option B',variable=var,\n",
    "                    value='B',command=print_selection)\n",
    "\n",
    "r3 = tk.Radiobutton(window,text='Option C',variable=var,\n",
    "                    value='C',command=print_selection)\n",
    "r1.pack()\n",
    "r2.pack()\n",
    "r3.pack()\n",
    "\n",
    "window.mainloop() "
   ]
  },
  {
   "cell_type": "markdown",
   "metadata": {},
   "source": [
    "### Scale尺度"
   ]
  },
  {
   "cell_type": "code",
   "execution_count": 60,
   "metadata": {},
   "outputs": [],
   "source": [
    "window = tk.Tk()\n",
    "window.title('my window')\n",
    "window.geometry('200x200')\n",
    "\n",
    "l = tk.Label(window,bg='yellow',width=20,text='empty')\n",
    "l.pack()\n",
    "\n",
    "def print_selection(v):\n",
    "    l.config(text='you have selected'+v)\n",
    "    \n",
    "s = tk.Scale(window,label='try me',from_=5,to=11,\n",
    "             orient=tk.HORIZONTAL,length=200,showvalue=1,#200 pixel\n",
    "             tickinterval=3,resolution=0.01,command=print_selection)\n",
    "s.pack()\n",
    "window.mainloop() "
   ]
  },
  {
   "cell_type": "markdown",
   "metadata": {},
   "source": [
    "### checkbutton勾选项"
   ]
  },
  {
   "cell_type": "code",
   "execution_count": 63,
   "metadata": {},
   "outputs": [],
   "source": [
    "window = tk.Tk()\n",
    "window.title('my window')\n",
    "window.geometry('200x200')\n",
    "\n",
    "l = tk.Label(window,bg='yellow',width=20,text='empty')\n",
    "l.pack()\n",
    "\n",
    "var1 = tk.IntVar()\n",
    "var2 = tk.IntVar()\n",
    "\n",
    "def print_selection():\n",
    "    if(var1.get()==1) & (var2.get()==0):\n",
    "        l.config(text='I love only Python')\n",
    "    elif(var1.get()==0) & (var2.get()==1):\n",
    "        l.config(text='I love only C++')\n",
    "    elif(var1.get()==0) & (var2.get()==0):\n",
    "        l.config(text='I do not love either')\n",
    "    else:\n",
    "        l.config(text='I love both')\n",
    "    \n",
    "c1 = tk.Checkbutton(window,text='Python',variable=var1,onvalue=1,\n",
    "                    offvalue=0,command=print_selection)#如果选中，var1被赋值成1，不选中赋值成0\n",
    "c2 = tk.Checkbutton(window,text='C++',variable=var2,onvalue=1,\n",
    "                    offvalue=0,command=print_selection)\n",
    "c1.pack()\n",
    "c2.pack()\n",
    "\n",
    "window.mainloop() "
   ]
  },
  {
   "cell_type": "markdown",
   "metadata": {},
   "source": [
    "### Canvas画布"
   ]
  },
  {
   "cell_type": "code",
   "execution_count": 21,
   "metadata": {},
   "outputs": [],
   "source": [
    "from PIL import Image,ImageTk\n",
    "window = tk.Toplevel()\n",
    "window.title('my window')\n",
    "window.geometry('200x200')\n",
    "\n",
    "canvas = tk.Canvas(window,bg='blue',height=100,width=200)\n",
    "img_file = Image.open('wechat.jpg')\n",
    "image = ImageTk.PhotoImage(img_file)\n",
    "canvas.create_image(0,0,anchor='nw',image=image)#anchor是锚定的点，用来放图片的点\n",
    "x0,y0,x1,y1=50,50,80,80\n",
    "line = canvas.create_line(x0,y0,x1,y1)\n",
    "oval = canvas.create_oval(x0,y0,x1,y1,fill='red')\n",
    "arc = canvas.create_arc(x0+30,y0+30,x1+30,y1+30,start=0,extent=180)\n",
    "rect = canvas.create_rectangle(100,30,120,50)\n",
    "canvas.pack()\n",
    "\n",
    "def move():\n",
    "    canvas.move(rect,0,2)\n",
    "    \n",
    "b = tk.Button(window,text='move',command=move).pack()\n",
    "\n",
    "\n",
    "window.mainloop() "
   ]
  },
  {
   "cell_type": "markdown",
   "metadata": {},
   "source": [
    "### menubar"
   ]
  },
  {
   "cell_type": "code",
   "execution_count": 24,
   "metadata": {},
   "outputs": [],
   "source": [
    "window = tk.Tk()\n",
    "window.title('my window')\n",
    "window.geometry('200x200')\n",
    "\n",
    "l = tk.Label(window,text='',bg='yellow')\n",
    "l.pack()\n",
    "\n",
    "window.mainloop() "
   ]
  },
  {
   "cell_type": "markdown",
   "metadata": {},
   "source": [
    "### 登录界面"
   ]
  },
  {
   "cell_type": "code",
   "execution_count": null,
   "metadata": {},
   "outputs": [],
   "source": [
    "import pickle\n",
    "import tkinter.messagebox\n",
    "window = tk.Toplevel()\n",
    "window.title('Welcome to Mofan Python')\n",
    "window.geometry('450x300')\n",
    "\n",
    "def user_login():\n",
    "    usr_name = var_usr_name.get()\n",
    "    usr_pwd =var_usr_pwd.get()\n",
    "    try:\n",
    "        with open('usrs_info.pickle','rb') as usr_file:\n",
    "            usrs_info = pickle.load(usr_file)\n",
    "    #没有这个文件的时候先创建文件，设置管理员\n",
    "    except FileNotFoundError:\n",
    "        with open('usrs_info.pickle','wb') as usr_file:\n",
    "            usrs_info = {'admin':'admin'}\n",
    "            pickle.dump(usrs_info,usr_file)\n",
    "    \n",
    "    if usr_name in usrs_info:\n",
    "        if usr_pwd == usrs_info[usr_name]:\n",
    "            tk.messagebox.showinfo(title='Welcome',message='How are you?'+usr_name)\n",
    "        else:\n",
    "            tk.messagebox.showerror(message='Error,your password is incorrect,try again')\n",
    "    else:\n",
    "        is_sign_up = tk.messagebox.askyesno(title='Welcome',message='You have not sign up yet.Sign up today?')\n",
    "        if is_sign_up:\n",
    "            user_sign_up()\n",
    "        \n",
    "        \n",
    "def user_sign_up():\n",
    "    def sign_to_Mofan_Python():\n",
    "        np = new_pwd.get()\n",
    "        npf = new_pwd_confirm.get()\n",
    "        nn = new_name.get()\n",
    "        #确定重复注册\n",
    "        with open('usrs_info.pickle','rb') as usr_file:\n",
    "            exist_usr_info = pickle.load(usr_file)\n",
    "        if np!=npf:\n",
    "            tk.messagebox.showerror('Error','Password and confirm password must be the same!')\n",
    "        elif nn in exist_usr_info:\n",
    "            tk.messagebox.showerror('Error','The user has already signed up!')\n",
    "        else:\n",
    "            #已存在的用户信息，加入新的用户名nn，密码是np\n",
    "#             exist_usr_info[nn] = np \n",
    "            new_user = {nn:np}\n",
    "#             with open('users_info.pickle','wb') as usr_file:\n",
    "#                 pickle.dump(exist_usr_info,usr_file)\n",
    "            with open('usrs_info.pickle','ab') as usr_file:\n",
    "                pickle.dump(new_user,usr_file)\n",
    "            tk.messagebox.showinfo('Welcome','You have successfully signed up!')\n",
    "            window_sign_up.destroy()\n",
    "            \n",
    "#     pass\n",
    "    window_sign_up = tk.Toplevel(window)\n",
    "    window_sign_up.geometry('350x200')\n",
    "    window_sign_up.title('Sign up window')\n",
    "    \n",
    "    new_name = tk.StringVar()\n",
    "    new_name.set('example@python.com')\n",
    "    tk.Label(window_sign_up,text='User name:').place(x=10,y=10)\n",
    "    entry_new_name = tk.Entry(window_sign_up,textvariable=new_name)\n",
    "    entry_new_name.place(x=150,y=10)\n",
    "    \n",
    "    new_pwd = tk.StringVar()\n",
    "    tk.Label(window_sign_up,text='Password').place(x=10,y=50)\n",
    "    tk.Entry(window_sign_up,textvariable=new_pwd,show='*').place(x=150,y=50)\n",
    "    \n",
    "    new_pwd_confirm = tk.StringVar()\n",
    "    tk.Label(window_sign_up,text='Confirm password:').place(x=10,y=90)\n",
    "    tk.Entry(window_sign_up,textvariable=new_pwd_confirm,show='*').place(x=150,y=90)\n",
    "    \n",
    "    tk.Button(window_sign_up,text='Sign up',command=sign_to_Mofan_Python).place(x=150,y=130)\n",
    "\n",
    "#welcome image\n",
    "canvas = tk.Canvas(window,height=200,width=500)\n",
    "image_file = tk.PhotoImage(file='welcome.gif')\n",
    "image = canvas.create_image(0,0,anchor='nw',image = image_file)\n",
    "canvas.pack(side='top')\n",
    "\n",
    "#user information\n",
    "tk.Label(window,text='User name').place(x=50,y=150)\n",
    "tk.Label(window,text='Password').place(x=50,y=190)\n",
    "\n",
    "#两个Entry\n",
    "var_usr_name = tk.StringVar()\n",
    "var_usr_name.set('example@python.com')\n",
    "entry_usr_name = tk.Entry(window,textvariable=var_usr_name)\n",
    "entry_usr_name.place(x=160,y=150)\n",
    "\n",
    "var_usr_pwd = tk.StringVar()\n",
    "entry_usr_pwd = tk.Entry(window,textvariable=var_usr_pwd,show='*' )\n",
    "entry_usr_pwd.place(x=160,y=190)\n",
    "\n",
    "#两个Button login and sign up Button\n",
    "btn_login = tk.Button(window,text='Login',command=user_login)\n",
    "btn_login.place(x=170,y=230) \n",
    "btn_sign_up = tk.Button(window,text='Sign up',command=user_sign_up)\n",
    "btn_sign_up.place(x=250,y=230)\n",
    "\n",
    "window.mainloop()"
   ]
  },
  {
   "cell_type": "code",
   "execution_count": 19,
   "metadata": {},
   "outputs": [
    {
     "data": {
      "text/plain": [
       "True"
      ]
     },
     "execution_count": 19,
     "metadata": {},
     "output_type": "execute_result"
    }
   ],
   "source": [
    "l = ['11','22','33']\n",
    "'11' in l"
   ]
  },
  {
   "cell_type": "code",
   "execution_count": 21,
   "metadata": {},
   "outputs": [
    {
     "data": {
      "text/plain": [
       "False"
      ]
     },
     "execution_count": 21,
     "metadata": {},
     "output_type": "execute_result"
    }
   ],
   "source": [
    "d = {'11':1,'22':2,'33':3}\n",
    "'11' in d"
   ]
  },
  {
   "cell_type": "code",
   "execution_count": null,
   "metadata": {},
   "outputs": [],
   "source": []
  }
 ],
 "metadata": {
  "kernelspec": {
   "display_name": "MachineLearning",
   "language": "python",
   "name": "machinelearning"
  },
  "language_info": {
   "codemirror_mode": {
    "name": "ipython",
    "version": 3
   },
   "file_extension": ".py",
   "mimetype": "text/x-python",
   "name": "python",
   "nbconvert_exporter": "python",
   "pygments_lexer": "ipython3",
   "version": "3.6.9"
  },
  "toc": {
   "base_numbering": 1,
   "nav_menu": {},
   "number_sections": true,
   "sideBar": true,
   "skip_h1_title": false,
   "title_cell": "Table of Contents",
   "title_sidebar": "Contents",
   "toc_cell": false,
   "toc_position": {},
   "toc_section_display": true,
   "toc_window_display": false
  }
 },
 "nbformat": 4,
 "nbformat_minor": 4
}
