{
 "cells": [
  {
   "cell_type": "markdown",
   "metadata": {},
   "source": [
    "### 正则表达式 RegEX"
   ]
  },
  {
   "cell_type": "code",
   "execution_count": null,
   "metadata": {},
   "outputs": [],
   "source": [
    "import re"
   ]
  },
  {
   "cell_type": "markdown",
   "metadata": {},
   "source": [
    "### 简单Python匹配"
   ]
  },
  {
   "cell_type": "code",
   "execution_count": 4,
   "metadata": {},
   "outputs": [
    {
     "name": "stdout",
     "output_type": "stream",
     "text": [
      "True\n",
      "False\n"
     ]
    }
   ],
   "source": [
    "#matching string\n",
    "pattern1 = 'cat'\n",
    "pattern2 = 'bird'\n",
    "string ='dog runs to cat'\n",
    "print(pattern1 in string)\n",
    "print(pattern2 in string)"
   ]
  },
  {
   "cell_type": "markdown",
   "metadata": {},
   "source": [
    "### 用正则寻找匹配"
   ]
  },
  {
   "cell_type": "code",
   "execution_count": 5,
   "metadata": {},
   "outputs": [
    {
     "name": "stdout",
     "output_type": "stream",
     "text": [
      "<_sre.SRE_Match object; span=(12, 15), match='cat'>\n",
      "None\n"
     ]
    }
   ],
   "source": [
    "#regular expression\n",
    "pattern1 = 'cat'\n",
    "pattern2 = 'bird'\n",
    "string = 'dog runs to cat'\n",
    "print(re.search(pattern1,string))\n",
    "print(re.search(pattern2,string))"
   ]
  },
  {
   "cell_type": "markdown",
   "metadata": {},
   "source": [
    "### 匹配多种可能 使用[]"
   ]
  },
  {
   "cell_type": "code",
   "execution_count": 6,
   "metadata": {},
   "outputs": [
    {
     "data": {
      "text/plain": [
       "<_sre.SRE_Match object; span=(4, 7), match='run'>"
      ]
     },
     "execution_count": 6,
     "metadata": {},
     "output_type": "execute_result"
    }
   ],
   "source": [
    "#multiple patterns(\"run\" or \"ran\")\n",
    "#1.这里如果没有r的话就是一个string，加了r以后就是正则表达式\n",
    "#2.这里的r是raw string，就不用把字符串中特殊字符转义处理了\n",
    "ptn = r\"r[au]n\"\n",
    "re.search(ptn,string)"
   ]
  },
  {
   "cell_type": "markdown",
   "metadata": {},
   "source": [
    "### 特殊种类匹配"
   ]
  },
  {
   "cell_type": "markdown",
   "metadata": {},
   "source": [
    "#### 数字"
   ]
  },
  {
   "cell_type": "code",
   "execution_count": 8,
   "metadata": {},
   "outputs": [
    {
     "name": "stdout",
     "output_type": "stream",
     "text": [
      "<_sre.SRE_Match object; span=(4, 7), match='r4n'>\n",
      "<_sre.SRE_Match object; span=(0, 3), match='run'>\n"
     ]
    }
   ],
   "source": [
    "#\\d: decimal digit\n",
    "print(re.search(r\"r\\dn\",\"run r4n\"))\n",
    "#\\D: any non-decimal digit就是\\d的反面，所有不是数字的\n",
    "print(re.search(r\"r\\Dn\",\"run r4n\"))"
   ]
  },
  {
   "cell_type": "markdown",
   "metadata": {},
   "source": [
    "#### 空白"
   ]
  },
  {
   "cell_type": "code",
   "execution_count": 9,
   "metadata": {},
   "outputs": [
    {
     "name": "stdout",
     "output_type": "stream",
     "text": [
      "<_sre.SRE_Match object; span=(0, 3), match='r\\nn'>\n",
      "<_sre.SRE_Match object; span=(4, 7), match='r4n'>\n"
     ]
    }
   ],
   "source": [
    "#\\s: any white spaces [\\t\\n\\r\\f\\v]\n",
    "print(re.search(r\"r\\sn\",\"r\\nn r4n\"))\n",
    "#\\S: opposite to \\s, any non-white space\n",
    "print(re.search(r\"r\\Sn\",\"r\\nn r4n\"))"
   ]
  },
  {
   "cell_type": "markdown",
   "metadata": {},
   "source": [
    "#### 所有字母和数字和\"_\""
   ]
  },
  {
   "cell_type": "code",
   "execution_count": 10,
   "metadata": {},
   "outputs": [
    {
     "name": "stdout",
     "output_type": "stream",
     "text": [
      "<_sre.SRE_Match object; span=(4, 7), match='r4n'>\n",
      "<_sre.SRE_Match object; span=(0, 3), match='r\\nn'>\n"
     ]
    }
   ],
   "source": [
    "#\\w: [a-zA-Z0-9_]\n",
    "print(re.search(r\"r\\wn\",\"r\\nn r4n\"))\n",
    "#\\W: opposite to \\w\n",
    "print(re.search(r\"r\\Wn\",\"r\\nn r4n\"))"
   ]
  },
  {
   "cell_type": "markdown",
   "metadata": {},
   "source": [
    "#### 空白字符"
   ]
  },
  {
   "cell_type": "code",
   "execution_count": 19,
   "metadata": {},
   "outputs": [
    {
     "name": "stdout",
     "output_type": "stream",
     "text": [
      "<_sre.SRE_Match object; span=(4, 8), match='runs'>\n",
      "<_sre.SRE_Match object; span=(4, 10), match=' runs '>\n"
     ]
    }
   ],
   "source": [
    "#\\b: empty string(only at the start or end of the word)\n",
    "print(re.search(r\"\\bruns\\b\",\"dog runs to cat\"))#在runs前后都有空格\n",
    "#\\B: empty string(but not at the start or end of the word)\n",
    "print(re.search(r\"\\B runs \\B\",\"dog  runs  to cat\"))"
   ]
  },
  {
   "cell_type": "markdown",
   "metadata": {},
   "source": [
    "#### 特殊字符 任意字符"
   ]
  },
  {
   "cell_type": "code",
   "execution_count": 20,
   "metadata": {},
   "outputs": [
    {
     "name": "stdout",
     "output_type": "stream",
     "text": [
      "<_sre.SRE_Match object; span=(0, 5), match='runs\\\\'>\n",
      "<_sre.SRE_Match object; span=(0, 3), match='r[n'>\n"
     ]
    }
   ],
   "source": [
    "#\\\\: match \\\n",
    "print(re.search(r\"runs\\\\\",\"runs\\ to me\"))\n",
    "#.: match anything(except \\n)\n",
    "print(re.search(r\"r.n\",\"r[ns to me\"))"
   ]
  },
  {
   "cell_type": "markdown",
   "metadata": {},
   "source": [
    "#### 句尾句首"
   ]
  },
  {
   "cell_type": "code",
   "execution_count": 22,
   "metadata": {},
   "outputs": [
    {
     "name": "stdout",
     "output_type": "stream",
     "text": [
      "<_sre.SRE_Match object; span=(0, 3), match='dog'>\n",
      "<_sre.SRE_Match object; span=(12, 15), match='cat'>\n"
     ]
    }
   ],
   "source": [
    "#^: match line beginning\n",
    "print(re.search(r\"^dog\",\"dog runs to cat\"))\n",
    "#$: match line ending\n",
    "print(re.search(r\"cat$\",\"dog runs to cat\"))"
   ]
  },
  {
   "cell_type": "markdown",
   "metadata": {},
   "source": [
    "#### 是否"
   ]
  },
  {
   "cell_type": "code",
   "execution_count": 23,
   "metadata": {},
   "outputs": [
    {
     "name": "stdout",
     "output_type": "stream",
     "text": [
      "<_sre.SRE_Match object; span=(0, 6), match='Monday'>\n",
      "<_sre.SRE_Match object; span=(0, 3), match='Mon'>\n"
     ]
    }
   ],
   "source": [
    "#? :may or may not occur\n",
    "print(re.search(r\"Mon(day)?\",\"Monday\"))\n",
    "print(re.search(r\"Mon(day)?\",\"Mon\"))"
   ]
  },
  {
   "cell_type": "markdown",
   "metadata": {},
   "source": [
    "#### 多行匹配"
   ]
  },
  {
   "cell_type": "code",
   "execution_count": 24,
   "metadata": {},
   "outputs": [
    {
     "name": "stdout",
     "output_type": "stream",
     "text": [
      "None\n",
      "<_sre.SRE_Match object; span=(18, 19), match='I'>\n"
     ]
    }
   ],
   "source": [
    "#multi-line\n",
    "string = \"\"\"\n",
    "dog runs ro cat.\n",
    "I run to dog.\n",
    "\"\"\"\n",
    "print(re.search(r\"^I\",string))#用匹配句首的形式是匹配不到的\n",
    "print(re.search(r\"^I\",string,flags=re.M))#M=Multi line"
   ]
  },
  {
   "cell_type": "code",
   "execution_count": null,
   "metadata": {},
   "outputs": [],
   "source": [
    "#### 0或多次"
   ]
  }
 ],
 "metadata": {
  "kernelspec": {
   "display_name": "tf",
   "language": "python",
   "name": "tf"
  },
  "language_info": {
   "codemirror_mode": {
    "name": "ipython",
    "version": 3
   },
   "file_extension": ".py",
   "mimetype": "text/x-python",
   "name": "python",
   "nbconvert_exporter": "python",
   "pygments_lexer": "ipython3",
   "version": "3.6.8"
  }
 },
 "nbformat": 4,
 "nbformat_minor": 4
}
