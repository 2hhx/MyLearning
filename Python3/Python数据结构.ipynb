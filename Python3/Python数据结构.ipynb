{
 "cells": [
  {
   "cell_type": "markdown",
   "metadata": {},
   "source": [
    "### 队列"
   ]
  },
  {
   "cell_type": "code",
   "execution_count": 18,
   "metadata": {},
   "outputs": [
    {
     "name": "stdout",
     "output_type": "stream",
     "text": [
      "0\n"
     ]
    }
   ],
   "source": [
    "class Queue(object):\n",
    "    def __init__(self):\n",
    "        self.data_list = []\n",
    "    \n",
    "    def init_queue(self):\n",
    "        self.data_list = []\n",
    "        \n",
    "    def insert(self,data):\n",
    "        self.data_list.append(data)\n",
    "        \n",
    "    def pop(self):\n",
    "        if len(self.data_list) == 0:\n",
    "            return None\n",
    "        data = self.data_list[0]\n",
    "        del self.data_list[0]\n",
    "        return data\n",
    "    \n",
    "    def size(self):\n",
    "        return len(self.data_list)\n",
    "\n",
    "queue = Queue()\n",
    "print(queue.size())\n",
    "        "
   ]
  },
  {
   "cell_type": "code",
   "execution_count": 19,
   "metadata": {},
   "outputs": [],
   "source": [
    "queue.insert(1)\n",
    "queue.insert(2)\n",
    "queue.insert(3)"
   ]
  },
  {
   "cell_type": "code",
   "execution_count": 20,
   "metadata": {},
   "outputs": [
    {
     "name": "stdout",
     "output_type": "stream",
     "text": [
      "1\n",
      "2\n",
      "3\n",
      "None\n"
     ]
    }
   ],
   "source": [
    "head = queue.pop()\n",
    "print(head)\n",
    "print(queue.pop())\n",
    "print(queue.pop())\n",
    "print(queue.pop())"
   ]
  },
  {
   "cell_type": "markdown",
   "metadata": {},
   "source": [
    " ### 栈\n",
    " 栈就是个硬币桶，每次都是往里面压硬币，每次取的硬币都是最后压进去的硬币。栈有以下特点：\n",
    " \n",
    " 1.后进先出 \n",
    " \n",
    " 2.只能从尾部插入数据\n",
    " \n",
    " 3.只能从尾部取数据"
   ]
  },
  {
   "cell_type": "code",
   "execution_count": 32,
   "metadata": {},
   "outputs": [],
   "source": [
    "class Stack(object):\n",
    "    def __init__(self):\n",
    "        self.data_stack = []\n",
    "    def init_stack(self):\n",
    "        self.data_stack = []\n",
    "        \n",
    "    def insert(self,data):\n",
    "        self.data_stack.append(data)\n",
    "        \n",
    "    def pop(self):\n",
    "        if len(self.data_stack) == 0:\n",
    "            return None\n",
    "        data = self.data_stack[-1]\n",
    "        del self.data_stack[-1]\n",
    "        return data\n",
    "    \n",
    "    def iter(self):\n",
    "        return self.data_stack\n",
    "    \n",
    "    def size(self):\n",
    "        return len(self.data_stack)"
   ]
  },
  {
   "cell_type": "code",
   "execution_count": 25,
   "metadata": {},
   "outputs": [
    {
     "data": {
      "text/plain": [
       "['11', '22', '33', '44']"
      ]
     },
     "execution_count": 25,
     "metadata": {},
     "output_type": "execute_result"
    }
   ],
   "source": [
    "list = ['11','22','33','44']"
   ]
  },
  {
   "cell_type": "code",
   "execution_count": 33,
   "metadata": {},
   "outputs": [],
   "source": [
    "stack = Stack()\n",
    "stack.insert(1)\n",
    "stack.insert(2)\n",
    "stack.insert(3)"
   ]
  },
  {
   "cell_type": "code",
   "execution_count": 34,
   "metadata": {},
   "outputs": [
    {
     "data": {
      "text/plain": [
       "[1, 2, 3]"
      ]
     },
     "execution_count": 34,
     "metadata": {},
     "output_type": "execute_result"
    }
   ],
   "source": [
    "stack.iter()"
   ]
  },
  {
   "cell_type": "code",
   "execution_count": 35,
   "metadata": {},
   "outputs": [
    {
     "name": "stdout",
     "output_type": "stream",
     "text": [
      "3\n",
      "2\n",
      "1\n",
      "None\n"
     ]
    },
    {
     "data": {
      "text/plain": [
       "[]"
      ]
     },
     "execution_count": 35,
     "metadata": {},
     "output_type": "execute_result"
    }
   ],
   "source": [
    "tail = stack.pop()\n",
    "print(tail)\n",
    "print(stack.pop())\n",
    "print(stack.pop())\n",
    "print(stack.pop())\n",
    "stack.iter()"
   ]
  },
  {
   "cell_type": "markdown",
   "metadata": {},
   "source": [
    "### 二叉树"
   ]
  },
  {
   "cell_type": "markdown",
   "metadata": {},
   "source": [
    "前序遍历（根左右）\n",
    "\n",
    "中序遍历（左根右）\n",
    "\n",
    "后序遍历（左右根）"
   ]
  },
  {
   "cell_type": "code",
   "execution_count": 48,
   "metadata": {},
   "outputs": [],
   "source": [
    "class Node(object):\n",
    "    def __init__(self,index):\n",
    "        self.index = index\n",
    "        self.left_child = None\n",
    "        self.right_child = None\n",
    "        \n",
    "class BinaryTree(object):\n",
    "    def __init__(self,root):\n",
    "        self.root = root\n",
    "     \n",
    "    #前序遍历\n",
    "    def pre_travel(self,node):\n",
    "        if not node:\n",
    "            return None\n",
    "        print(node.index)\n",
    "        self.pre_travel(node.left_child)\n",
    "        self.pre_travel(node.right_child)\n",
    "    \n",
    "    def in_travel(self,node):\n",
    "        if not node:\n",
    "            return None\n",
    "        self.in_travel(node.left_child)\n",
    "        print(node.index)\n",
    "        self.in_travel(node.right_child)\n",
    "        \n",
    "    def post_travel(self,node):\n",
    "        if not node:\n",
    "            return None\n",
    "        self.post_travel(node.left_child)\n",
    "        self.post_travel(node.right_child)\n",
    "        print(node.index)\n",
    "    \n",
    "\n",
    "\n",
    "    "
   ]
  },
  {
   "cell_type": "code",
   "execution_count": 49,
   "metadata": {},
   "outputs": [],
   "source": [
    "node_dict = {}\n",
    "for i in range(1,10):\n",
    "    node_dict[i] = Node(i)\n",
    "node_dict[1].left_child = node_dict[2]\n",
    "node_dict[1].right_child = node_dict[3]\n",
    "node_dict[2].left_child = node_dict[5]\n",
    "node_dict[2].right_child = node_dict[6]\n",
    "node_dict[3].left_child = node_dict[7]\n",
    "node_dict[7].left_child = node_dict[8]\n",
    "node_dict[7].right_child = node_dict[9]\n",
    "\n"
   ]
  },
  {
   "cell_type": "code",
   "execution_count": 51,
   "metadata": {},
   "outputs": [],
   "source": [
    "tree = BinaryTree(node_dict[1])"
   ]
  },
  {
   "cell_type": "code",
   "execution_count": 52,
   "metadata": {},
   "outputs": [
    {
     "name": "stdout",
     "output_type": "stream",
     "text": [
      "1\n",
      "2\n",
      "5\n",
      "6\n",
      "3\n",
      "7\n",
      "8\n",
      "9\n"
     ]
    }
   ],
   "source": [
    "tree.pre_travel(tree.root)\n",
    "# tree.pre_travel(node_dict[1])"
   ]
  },
  {
   "cell_type": "code",
   "execution_count": 53,
   "metadata": {},
   "outputs": [
    {
     "name": "stdout",
     "output_type": "stream",
     "text": [
      "5\n",
      "2\n",
      "6\n",
      "1\n",
      "8\n",
      "7\n",
      "9\n",
      "3\n"
     ]
    }
   ],
   "source": [
    "tree.in_travel(tree.root)"
   ]
  },
  {
   "cell_type": "code",
   "execution_count": 54,
   "metadata": {},
   "outputs": [
    {
     "name": "stdout",
     "output_type": "stream",
     "text": [
      "5\n",
      "6\n",
      "2\n",
      "8\n",
      "9\n",
      "7\n",
      "3\n",
      "1\n"
     ]
    }
   ],
   "source": [
    "tree.post_travel(tree.root)"
   ]
  },
  {
   "cell_type": "markdown",
   "metadata": {},
   "source": [
    "### 二分查找"
   ]
  },
  {
   "cell_type": "code",
   "execution_count": 134,
   "metadata": {},
   "outputs": [],
   "source": [
    "def binary_search(serch_list,target):\n",
    "    left = 0\n",
    "    right = len(serch_list) - 1\n",
    "    while left <=  right:\n",
    "        mid = (left + right) // 2 \n",
    "        if serch_list[mid] == target:\n",
    "            return mid\n",
    "        elif serch_list[mid] > target:\n",
    "            right = mid - 1\n",
    "        else:\n",
    "            left = mid + 1\n",
    "    return None\n",
    "    "
   ]
  },
  {
   "cell_type": "code",
   "execution_count": 135,
   "metadata": {},
   "outputs": [
    {
     "name": "stdout",
     "output_type": "stream",
     "text": [
      "[1, 3, 4, 6, 8, 9]\n"
     ]
    }
   ],
   "source": [
    "search_list = [1,3,4,6,8,9]\n",
    "search_list.sort()\n",
    "print(search_list)"
   ]
  },
  {
   "cell_type": "code",
   "execution_count": 136,
   "metadata": {},
   "outputs": [
    {
     "name": "stdout",
     "output_type": "stream",
     "text": [
      "5\n"
     ]
    }
   ],
   "source": [
    "print(binary_search(search_list,9))"
   ]
  },
  {
   "cell_type": "markdown",
   "metadata": {},
   "source": [
    "### 排序"
   ]
  },
  {
   "cell_type": "markdown",
   "metadata": {},
   "source": [
    "#### 插入排序"
   ]
  },
  {
   "cell_type": "code",
   "execution_count": 138,
   "metadata": {},
   "outputs": [
    {
     "name": "stdout",
     "output_type": "stream",
     "text": [
      "[1, 3, 5, 7, 8, 9]\n"
     ]
    }
   ],
   "source": [
    "def insert_sort(origin_list):\n",
    "    sorted_list = []\n",
    "    for i in range(0, len(origin_list)):\n",
    "        #print sorted_list\n",
    "        if len(sorted_list) == 0:\n",
    "            sorted_list.append(origin_list[i])\n",
    "            continu e\n",
    "        for j in range(len(sorted_list) - 1, -1, -1):\n",
    "            if sorted_list[j] <= origin_list[i]:\n",
    "                sorted_list.insert(j + 1, origin_list[i])\n",
    "                break\n",
    "            if j == 0:\n",
    "                sorted_list.insert(0, origin_list[i])\n",
    "    origin_list[:] = sorted_list[:]\n",
    "origin_list = [5, 3, 1, 7, 9, 8]\n",
    "insert_sort(origin_list)\n",
    "print(origin_list)"
   ]
  },
  {
   "cell_type": "markdown",
   "metadata": {},
   "source": [
    "#### 冒泡排序"
   ]
  },
  {
   "cell_type": "code",
   "execution_count": 139,
   "metadata": {},
   "outputs": [
    {
     "data": {
      "text/plain": [
       "[1, 3, 5, 7, 8, 9]"
      ]
     },
     "execution_count": 139,
     "metadata": {},
     "output_type": "execute_result"
    }
   ],
   "source": [
    "def bubble_sort(origin_list):\n",
    "    for i in range(len(origin_list), 0, -1):\n",
    "        #print origin_list\n",
    "        for j in range(0, i - 1):\n",
    "            if origin_list[j] > origin_list[j + 1]:\n",
    "                origin_list[j], origin_list[j + 1] = origin_list[j + 1], origin_list[j]\n",
    "origin_list = [5, 3, 1, 7, 9, 8]\n",
    "bubble_sort(origin_list)\n",
    "origin_list"
   ]
  },
  {
   "cell_type": "markdown",
   "metadata": {},
   "source": [
    "#### 快速排序"
   ]
  },
  {
   "cell_type": "code",
   "execution_count": 140,
   "metadata": {},
   "outputs": [
    {
     "name": "stdout",
     "output_type": "stream",
     "text": [
      "[1, 3, 3, 5, 7, 8, 9]\n"
     ]
    }
   ],
   "source": [
    "def quick_sort(origin_list, start, end):\n",
    "    if start >= end:\n",
    "        return\n",
    "    left = start\n",
    "    right = end\n",
    "    flag_index = left\n",
    "    while left < right:\n",
    "        while right > left:\n",
    "            if origin_list[right] < origin_list[flag_index]:\n",
    "                origin_list[right], origin_list[flag_index] = origin_list[flag_index], origin_list[right]\n",
    "                flag_index = right\n",
    "                break\n",
    "            right -= 1\n",
    "        while left < right:\n",
    "            if origin_list[left] > origin_list[flag_index]:\n",
    "                origin_list[left], origin_list[flag_index] = origin_list[flag_index], origin_list[left]\n",
    "                flag_index = left\n",
    "                break\n",
    "            left += 1\n",
    "    quick_sort(origin_list, start, flag_index)\n",
    "    quick_sort(origin_list, flag_index + 1, end)\n",
    "origin_list = [5, 3, 1, 3, 7, 9, 8]\n",
    "quick_sort(origin_list, 0, len(origin_list) - 1)\n",
    "print(origin_list)"
   ]
  },
  {
   "cell_type": "markdown",
   "metadata": {},
   "source": [
    "#### 归并排序"
   ]
  },
  {
   "cell_type": "code",
   "execution_count": 144,
   "metadata": {},
   "outputs": [
    {
     "name": "stdout",
     "output_type": "stream",
     "text": [
      "[1, 3, 3, 5, 7, 8, 9]\n"
     ]
    }
   ],
   "source": [
    "def merge_sort(origin_list, start, end):\n",
    "    if end <= start:\n",
    "        return\n",
    "    mid = (start + end) // 2\n",
    "    merge_sort(origin_list, start, mid)\n",
    "    merge_sort(origin_list, mid + 1, end)\n",
    "    left_head = start\n",
    "    right_head = mid + 1\n",
    "    temp_list = []\n",
    "    while left_head <= mid and right_head <= end:\n",
    "        if origin_list[left_head] < origin_list[right_head]:\n",
    "            temp_list.append(origin_list[left_head])\n",
    "            left_head += 1\n",
    "        if origin_list[left_head] >= origin_list[right_head]:\n",
    "            temp_list.append(origin_list[right_head])\n",
    "            right_head += 1\n",
    "    if left_head <= mid:\n",
    "        temp_list += origin_list[left_head:mid + 1]\n",
    "    if right_head <= end:\n",
    "        temp_list += origin_list[right_head:end + 1]\n",
    "    for i in range(0, len(temp_list)):\n",
    "        origin_list[i + start] = temp_list[i]\n",
    "origin_list = [5, 3, 1, 3, 7, 9, 8]\n",
    "merge_sort(origin_list, 0, len(origin_list) - 1)\n",
    "print(origin_list)"
   ]
  },
  {
   "cell_type": "code",
   "execution_count": 148,
   "metadata": {},
   "outputs": [
    {
     "data": {
      "text/plain": [
       "'87654321'"
      ]
     },
     "execution_count": 148,
     "metadata": {},
     "output_type": "execute_result"
    }
   ],
   "source": [
    "s = '12345678'\n",
    "s[-1::-1]#==s[-1:-8:1]"
   ]
  },
  {
   "cell_type": "code",
   "execution_count": 165,
   "metadata": {},
   "outputs": [
    {
     "name": "stdout",
     "output_type": "stream",
     "text": [
      "8\n",
      "7\n",
      "6\n",
      "5\n",
      "4\n",
      "3\n",
      "2\n",
      "1\n"
     ]
    }
   ],
   "source": [
    "s = [1,2,3,4,5,6,7,8]\n",
    "s[::-1]\n",
    "#数组从后往前遍历\n",
    "for i in range(len(s)-1,-1,-1):\n",
    "    print(s[i])"
   ]
  },
  {
   "cell_type": "markdown",
   "metadata": {},
   "source": [
    "### 堆\n",
    "取前10名成绩最好的学生"
   ]
  },
  {
   "cell_type": "code",
   "execution_count": 1,
   "metadata": {},
   "outputs": [
    {
     "name": "stdout",
     "output_type": "stream",
     "text": [
      "[0, 1, 2, 6, 3, 5, 4, 7, 8, 9]\n",
      "[0, 1, 2, 3, 4, 5, 6, 7, 8, 9]\n",
      "[]\n",
      "[9, 5]\n",
      "[1, 2]\n",
      "[1, 2, 3, 5, 5, 9]\n"
     ]
    }
   ],
   "source": [
    "import heapq \n",
    "\n",
    "#1 heappush生成堆+ heappop把堆从小到大pop出来 \n",
    "heap = []\n",
    "data = [1,3,5,7,9,2,4,6,8,0]\n",
    "for i in data:\n",
    "    heapq.heappush(heap,i)\n",
    "print(heap)\n",
    "\n",
    "#heap空掉了\n",
    "lis = []\n",
    "while heap:\n",
    "    lis.append(heapq.heappop(heap))\n",
    "print(lis)\n",
    "print(heap)\n",
    "\n",
    "#2 heapify生成堆+ heappop把堆从小到大pop出来 \n",
    "data2 = [1,5,3,2,9,5]\n",
    "heapq.heapify(data2)\n",
    "#找出堆中最大/最小的k个值\n",
    "print(heapq.nlargest(2,data2))\n",
    "print(heapq.nsmallest(2,data2))\n",
    "\n",
    "lis2 = []\n",
    "while data2:\n",
    "    lis2.append(heapq.heappop(data2))\n",
    "print(lis2)"
   ]
  },
  {
   "cell_type": "code",
   "execution_count": null,
   "metadata": {},
   "outputs": [],
   "source": []
  },
  {
   "cell_type": "code",
   "execution_count": null,
   "metadata": {},
   "outputs": [],
   "source": []
  }
 ],
 "metadata": {
  "kernelspec": {
   "display_name": "tf",
   "language": "python",
   "name": "tf"
  },
  "language_info": {
   "codemirror_mode": {
    "name": "ipython",
    "version": 3
   },
   "file_extension": ".py",
   "mimetype": "text/x-python",
   "name": "python",
   "nbconvert_exporter": "python",
   "pygments_lexer": "ipython3",
   "version": "3.6.8"
  },
  "toc": {
   "base_numbering": 1,
   "nav_menu": {},
   "number_sections": true,
   "sideBar": true,
   "skip_h1_title": false,
   "title_cell": "Table of Contents",
   "title_sidebar": "Contents",
   "toc_cell": false,
   "toc_position": {},
   "toc_section_display": true,
   "toc_window_display": false
  }
 },
 "nbformat": 4,
 "nbformat_minor": 2
}
